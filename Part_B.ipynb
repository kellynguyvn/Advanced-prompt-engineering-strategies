{
  "nbformat": 4,
  "nbformat_minor": 0,
  "metadata": {
    "colab": {
      "provenance": []
    },
    "kernelspec": {
      "name": "python3",
      "display_name": "Python 3"
    },
    "language_info": {
      "name": "python"
    }
  },
  "cells": [
    {
      "cell_type": "markdown",
      "source": [
        "# 21 different prompt templates"
      ],
      "metadata": {
        "id": "lMQHHeQRgA34"
      }
    },
    {
      "cell_type": "code",
      "execution_count": 3,
      "metadata": {
        "colab": {
          "base_uri": "https://localhost:8080/"
        },
        "id": "0h47bbe3cq6O",
        "outputId": "8c7143c5-83e0-41df-f8d8-0250864fe079"
      },
      "outputs": [
        {
          "output_type": "stream",
          "name": "stdout",
          "text": [
            "Requirement already satisfied: openai==0.28 in /usr/local/lib/python3.10/dist-packages (0.28.0)\n",
            "Requirement already satisfied: requests>=2.20 in /usr/local/lib/python3.10/dist-packages (from openai==0.28) (2.32.3)\n",
            "Requirement already satisfied: tqdm in /usr/local/lib/python3.10/dist-packages (from openai==0.28) (4.66.6)\n",
            "Requirement already satisfied: aiohttp in /usr/local/lib/python3.10/dist-packages (from openai==0.28) (3.11.2)\n",
            "Requirement already satisfied: charset-normalizer<4,>=2 in /usr/local/lib/python3.10/dist-packages (from requests>=2.20->openai==0.28) (3.4.0)\n",
            "Requirement already satisfied: idna<4,>=2.5 in /usr/local/lib/python3.10/dist-packages (from requests>=2.20->openai==0.28) (3.10)\n",
            "Requirement already satisfied: urllib3<3,>=1.21.1 in /usr/local/lib/python3.10/dist-packages (from requests>=2.20->openai==0.28) (2.2.3)\n",
            "Requirement already satisfied: certifi>=2017.4.17 in /usr/local/lib/python3.10/dist-packages (from requests>=2.20->openai==0.28) (2024.8.30)\n",
            "Requirement already satisfied: aiohappyeyeballs>=2.3.0 in /usr/local/lib/python3.10/dist-packages (from aiohttp->openai==0.28) (2.4.3)\n",
            "Requirement already satisfied: aiosignal>=1.1.2 in /usr/local/lib/python3.10/dist-packages (from aiohttp->openai==0.28) (1.3.1)\n",
            "Requirement already satisfied: attrs>=17.3.0 in /usr/local/lib/python3.10/dist-packages (from aiohttp->openai==0.28) (24.2.0)\n",
            "Requirement already satisfied: frozenlist>=1.1.1 in /usr/local/lib/python3.10/dist-packages (from aiohttp->openai==0.28) (1.5.0)\n",
            "Requirement already satisfied: multidict<7.0,>=4.5 in /usr/local/lib/python3.10/dist-packages (from aiohttp->openai==0.28) (6.1.0)\n",
            "Requirement already satisfied: propcache>=0.2.0 in /usr/local/lib/python3.10/dist-packages (from aiohttp->openai==0.28) (0.2.0)\n",
            "Requirement already satisfied: yarl<2.0,>=1.17.0 in /usr/local/lib/python3.10/dist-packages (from aiohttp->openai==0.28) (1.17.2)\n",
            "Requirement already satisfied: async-timeout<6.0,>=4.0 in /usr/local/lib/python3.10/dist-packages (from aiohttp->openai==0.28) (4.0.3)\n",
            "Requirement already satisfied: typing-extensions>=4.1.0 in /usr/local/lib/python3.10/dist-packages (from multidict<7.0,>=4.5->aiohttp->openai==0.28) (4.12.2)\n"
          ]
        }
      ],
      "source": [
        "## Setup\n",
        "!pip install openai==0.28\n",
        "import openai\n",
        "\n",
        "# Set your OpenAI API key\n",
        "openai.api_key = \"OPEN-API_KEY\"\n",
        "\n",
        "# Function to call the OpenAI API for simple prompts (like before)\n",
        "def get_response(icl_prompt, model=\"gpt-4\"):\n",
        "    response = openai.ChatCompletion.create(\n",
        "        model=model,\n",
        "        messages=[\n",
        "            {\"role\": \"user\", \"content\": icl_prompt}\n",
        "        ],\n",
        "        max_tokens=150,\n",
        "        temperature=0.7\n",
        "    )\n",
        "    return response['choices'][0]['message']['content'].strip()\n"
      ]
    },
    {
      "cell_type": "code",
      "source": [
        "# Direct Instruction\n",
        "direct_prompt = \"Summarize the benefits of regular exercise in one sentence.\"\n",
        "print(\"Direct Instruction Response:\\n\", get_response(direct_prompt))\n",
        "\n",
        "# Failure Case\n",
        "vague_prompt = \"Tell me something about exercise.\"\n",
        "print(\"Vague Direct Instruction Failure:\\n\", get_response(vague_prompt))\n"
      ],
      "metadata": {
        "colab": {
          "base_uri": "https://localhost:8080/"
        },
        "id": "PnhEivBCdrlz",
        "outputId": "0146a253-7ece-40d7-ad2a-fa3a48b501fe"
      },
      "execution_count": 4,
      "outputs": [
        {
          "output_type": "stream",
          "name": "stdout",
          "text": [
            "Direct Instruction Response:\n",
            " Regular exercise improves physical health, enhances mental well-being, aids in weight management, boosts energy levels, promotes better sleep, and reduces risk of chronic diseases.\n",
            "Vague Direct Instruction Failure:\n",
            " Exercise is a physical activity that enhances or maintains physical fitness and overall health and wellness. It can be performed for various reasons such as strengthening muscles and cardiovascular system, honing athletic skills, weight loss or maintenance, improving mental health, and preventing aging. Regular exercise can help prevent and manage health problems like heart disease, high blood pressure, diabetes, and obesity. There are different types of exercise, including aerobic, strength training, balance or flexibility exercises, and high-intensity interval training (HIIT). It's recommended that individuals get at least 150 minutes of moderate aerobic activity or 75 minutes of vigorous activity each week, along with strength training exercises.\n"
          ]
        }
      ]
    },
    {
      "cell_type": "code",
      "source": [
        "icl_prompt = \"\"\"\n",
        "Example 1: Cat is to kitten as dog is to __.\n",
        "Answer: Puppy.\n",
        "\n",
        "Example 2: Car is to driver as plane is to __.\n",
        "Answer: Pilot.\n",
        "\n",
        "Question: Teacher is to student as doctor is to __.\n",
        "Answer:\n",
        "\"\"\"\n",
        "print(\"ICL Response:\\n\", get_response(icl_prompt))\n"
      ],
      "metadata": {
        "colab": {
          "base_uri": "https://localhost:8080/"
        },
        "id": "qUPKVXuWeZoH",
        "outputId": "620f9fd0-aff4-4a89-ab5b-39b2ffe7a6e7"
      },
      "execution_count": 5,
      "outputs": [
        {
          "output_type": "stream",
          "name": "stdout",
          "text": [
            "ICL Response:\n",
            " Patient.\n"
          ]
        }
      ]
    },
    {
      "cell_type": "code",
      "source": [
        "zero_shot_prompt = \"Translate 'Hello' to French.\"\n",
        "print(\"Zero-Shot Success:\\n\", get_response(zero_shot_prompt))\n",
        "\n",
        "complex_zero_shot = \"Write a detailed technical explanation of quantum entanglement.\"\n",
        "print(\"Zero-Shot Failure:\\n\", get_response(complex_zero_shot))"
      ],
      "metadata": {
        "colab": {
          "base_uri": "https://localhost:8080/"
        },
        "id": "_wUynerlef0O",
        "outputId": "c818f5d7-80ca-4c37-e8a2-c8285d1efb14"
      },
      "execution_count": 6,
      "outputs": [
        {
          "output_type": "stream",
          "name": "stdout",
          "text": [
            "Zero-Shot Success:\n",
            " Bonjour\n",
            "Zero-Shot Failure:\n",
            " Quantum entanglement is a phenomenon in quantum physics where two or more particles become interconnected and the state of one particle instantly influences the state of the other, no matter the distance between them. This concept, initially proposed by Albert Einstein, Boris Podolsky, and Nathan Rosen in 1935, challenged the traditional laws of physics and has become one of the most intriguing topics in quantum mechanics.\n",
            "\n",
            "This entanglement arises due to a type of superposition. When two quantum systems enter into temporary physical interaction, they can form an entangled state. This means that their quantum state cannot be individually described; instead, it is a combination of both. Once these particles are entangled, the state of one particle is directly related to the state of\n"
          ]
        }
      ]
    },
    {
      "cell_type": "code",
      "source": [
        "few_shot_prompt = \"\"\"\n",
        "Example: Translate 'Hello' to French: Bonjour.\n",
        "Example: Translate 'Thank you' to French: Merci.\n",
        "Task: Translate 'Goodbye' to French:\n",
        "\"\"\"\n",
        "print(\"Few-Shot Response:\\n\", get_response(few_shot_prompt))\n"
      ],
      "metadata": {
        "colab": {
          "base_uri": "https://localhost:8080/"
        },
        "id": "gxMyYNLxepbL",
        "outputId": "f01a0d60-fd99-451b-bca8-4d2da000beaa"
      },
      "execution_count": 25,
      "outputs": [
        {
          "output_type": "stream",
          "name": "stdout",
          "text": [
            "Few-Shot Response:\n",
            " Au revoir\n"
          ]
        }
      ]
    },
    {
      "cell_type": "code",
      "source": [
        "cot_prompt = \"\"\"\n",
        "What is 123 + 456?\n",
        "\n",
        "Step 1: 123 + 400 = 523.\n",
        "Step 2: 523 + 50 = 573.\n",
        "Step 3: 573 + 6 = 579.\n",
        "Answer: 579\n",
        "\"\"\"\n",
        "print(\"CoT Response:\\n\", get_response(cot_prompt))\n",
        "\n",
        "cot_failure_prompt = \"Solve 123 + 456 without explaining.\"\n",
        "print(\"CoT Failure Response:\\n\", get_response(cot_failure_prompt))\n"
      ],
      "metadata": {
        "colab": {
          "base_uri": "https://localhost:8080/"
        },
        "id": "x6MXPCpIetDq",
        "outputId": "6cfec59a-0e98-4eaa-bb4b-c27afaa9fbba"
      },
      "execution_count": 24,
      "outputs": [
        {
          "output_type": "stream",
          "name": "stdout",
          "text": [
            "CoT Response:\n",
            " Actually, the correct answer is 579. The steps provided were incorrect. The correct steps are as follows:\n",
            "\n",
            "Step 1: 123 + 400 = 523.\n",
            "Step 2: 523 + 50 = 573.\n",
            "Step 3: 573 + 6 = 579.\n",
            "Answer: 579\n",
            "CoT Failure Response:\n",
            " 579\n"
          ]
        }
      ]
    },
    {
      "cell_type": "code",
      "source": [
        "icot_prompt = \"\"\"\n",
        "Problem: What is 45 * 7?\n",
        "\n",
        "Step 1: Split 45 into 40 and 5.\n",
        "Step 2: Calculate 40 * 7 = 280.\n",
        "Step 3: Calculate 5 * 7 = 35.\n",
        "Step 4: Sum 280 and 35 to get 315.\n",
        "Answer: 315\n",
        "\"\"\"\n",
        "print(\"iCOT Response:\\n\", get_response(icot_prompt))\n"
      ],
      "metadata": {
        "colab": {
          "base_uri": "https://localhost:8080/"
        },
        "id": "786O-zB0eyYa",
        "outputId": "f82576bd-92f2-455f-a6ae-641ec303d396"
      },
      "execution_count": 23,
      "outputs": [
        {
          "output_type": "stream",
          "name": "stdout",
          "text": [
            "iCOT Response:\n",
            " Correct, the product of 45 and 7 is indeed 315.\n"
          ]
        }
      ]
    },
    {
      "cell_type": "code",
      "source": [
        "deliberative_prompt = \"\"\"\n",
        "Should I go for a run today?\n",
        "\n",
        "Pros:\n",
        "- Improve physical health.\n",
        "- Reduce stress.\n",
        "- Enjoy the weather.\n",
        "\n",
        "Cons:\n",
        "- I might be tired.\n",
        "- The weather could change.\n",
        "\n",
        "Conclusion: Weighing the pros and cons, it seems I should go for a run.\n",
        "\"\"\"\n",
        "print(\"Deliberative Reasoning Response:\\n\", get_response(deliberative_prompt))\n"
      ],
      "metadata": {
        "colab": {
          "base_uri": "https://localhost:8080/"
        },
        "id": "5v_NITTwe0fb",
        "outputId": "2080eb76-ba52-4c42-fdb3-b343b345aeee"
      },
      "execution_count": 22,
      "outputs": [
        {
          "output_type": "stream",
          "name": "stdout",
          "text": [
            "Deliberative Reasoning Response:\n",
            " However, the decision ultimately depends on your current physical condition and the weather forecast.\n"
          ]
        }
      ]
    },
    {
      "cell_type": "code",
      "source": [
        "recursive_prompt = \"\"\"\n",
        "Why is the sky blue?\n",
        "\n",
        "First Question: What causes color in the sky?\n",
        "Answer: The scattering of light.\n",
        "\n",
        "Second Question: Which color is scattered most?\n",
        "Answer: Blue light due to shorter wavelength.\n",
        "\n",
        "Final Answer: The sky appears blue due to Rayleigh scattering.\n",
        "\"\"\"\n",
        "print(\"Recursive Questioning Response:\\n\", get_response(recursive_prompt))\n"
      ],
      "metadata": {
        "colab": {
          "base_uri": "https://localhost:8080/"
        },
        "id": "A0Ftchzle7F8",
        "outputId": "b843934a-ab05-466f-92b1-ed16b56786e5"
      },
      "execution_count": 21,
      "outputs": [
        {
          "output_type": "stream",
          "name": "stdout",
          "text": [
            "Recursive Questioning Response:\n",
            " Rayleigh scattering refers to the scattering of light off of the molecules of the air, and can be extended to scattering from particles up to about a tenth of the wavelength of the light. It is responsible for changes in the color of the sky. Shorter wavelengths of light (like blue and violet) are scattered more than longer wavelengths (like red, yellow, and green). However, our eyes are more sensitive to blue light and less sensitive to violet light. Additionally, some of the violet light gets absorbed in the atmosphere and then re-emitted in a different direction. The blue light that is scattered in all directions by the tiny oxygen and nitrogen molecules of Earth’s atmosphere reaches us from all directions of the sky, making it appear blue.\n"
          ]
        }
      ]
    },
    {
      "cell_type": "code",
      "source": [
        "tot_prompt = \"\"\"\n",
        "Should I invest in stocks or real estate?\n",
        "\n",
        "Branch 1: Stocks\n",
        "    - Pros: High liquidity, historical high returns.\n",
        "    - Cons: Volatile, high risk.\n",
        "\n",
        "Branch 2: Real Estate\n",
        "    - Pros: Tangible asset, stable returns.\n",
        "    - Cons: Requires management, low liquidity.\n",
        "\n",
        "Conclusion depends on risk tolerance and desired liquidity.\n",
        "\"\"\"\n",
        "print(\"ToT Response:\\n\", get_response(tot_prompt))\n"
      ],
      "metadata": {
        "colab": {
          "base_uri": "https://localhost:8080/"
        },
        "id": "4JrbVg9Be92W",
        "outputId": "b467dc3e-4588-4884-bac2-4d8a6f0633af"
      },
      "execution_count": 20,
      "outputs": [
        {
          "output_type": "stream",
          "name": "stdout",
          "text": [
            "ToT Response:\n",
            " If you are a risk-taker and want to see quick returns on your investment, you might want to consider investing in stocks. However, if you are a conservative investor who prefers a more stable return over a long period of time, then real estate could be a better option for you.\n",
            "\n",
            "Additionally, if you have the time and ability to manage property, like dealing with tenants and maintenance issues, you could consider investing in real estate. On the other hand, if you prefer a more hands-off investment, stocks might be more suitable.\n",
            "\n",
            "Your financial situation and goals will also play a role in this decision. If you need your money to be easily accessible, you might want to go with stocks since they are more liquid than real estate. But if you\n"
          ]
        }
      ]
    },
    {
      "cell_type": "code",
      "source": [
        "got_prompt = \"\"\"\n",
        "Relationship 1: Eating healthy improves energy levels.\n",
        "Relationship 2: Getting good sleep also improves energy levels.\n",
        "Relationship 3: Exercising daily requires energy.\n",
        "\n",
        "How do these relationships interact?\n",
        "\"\"\"\n",
        "print(\"GoT Response:\\n\", get_response(got_prompt))\n"
      ],
      "metadata": {
        "colab": {
          "base_uri": "https://localhost:8080/"
        },
        "id": "CFhlAnUTe_Rs",
        "outputId": "76d7d568-85be-4497-8bee-3abac5790827"
      },
      "execution_count": 19,
      "outputs": [
        {
          "output_type": "stream",
          "name": "stdout",
          "text": [
            "GoT Response:\n",
            " These relationships interact in a cycle that could potentially lead to a healthier lifestyle. A person who eats healthily is likely to have improved energy levels, which would aid in their ability to exercise daily. Exercising, while it requires energy, also promotes better sleep. Getting good sleep further improves a person's energy levels, thus enabling them to continue eating healthily and exercising. Therefore, each relationship feeds into the other, creating a cycle of healthy habits.\n"
          ]
        }
      ]
    },
    {
      "cell_type": "code",
      "source": [
        "sc_prompt = \"\"\"\n",
        "If a train travels 100 miles in 2 hours, what is its average speed?\n",
        "\n",
        "Solution 1: Speed = Distance / Time = 100 / 2 = 50 mph.\n",
        "Solution 2: Speed = 50 mph (direct estimation).\n",
        "The consistent answer is: 50 mph.\n",
        "\"\"\"\n",
        "print(\"Self-Consistency Response:\\n\", get_response(sc_prompt))\n"
      ],
      "metadata": {
        "colab": {
          "base_uri": "https://localhost:8080/"
        },
        "id": "GcCRvW1cfAZH",
        "outputId": "3c0a5a3b-136e-4f5d-c3a4-634478c17901"
      },
      "execution_count": 18,
      "outputs": [
        {
          "output_type": "stream",
          "name": "stdout",
          "text": [
            "Self-Consistency Response:\n",
            " That's correct! The train's average speed is 50 miles per hour regardless of the method used to calculate it.\n"
          ]
        }
      ]
    },
    {
      "cell_type": "code",
      "source": [
        "aot_prompt = \"\"\"\n",
        "Agent 1: Stocks are great for long-term growth.\n",
        "Agent 2: Real estate provides stability.\n",
        "Agent 3: Consider a diversified portfolio.\n",
        "Answer: A combination might be best for balanced growth and stability.\n",
        "\"\"\"\n",
        "print(\"AoT Response:\\n\", get_response(aot_prompt))\n"
      ],
      "metadata": {
        "colab": {
          "base_uri": "https://localhost:8080/"
        },
        "id": "XDXlP1GefB34",
        "outputId": "12837b88-f44e-4d32-8810-750bb4a9e02f"
      },
      "execution_count": 17,
      "outputs": [
        {
          "output_type": "stream",
          "name": "stdout",
          "text": [
            "AoT Response:\n",
            " Agent 4: Absolutely, diversifying investments in both stocks and real estate can help balance risk and reward.\n"
          ]
        }
      ]
    },
    {
      "cell_type": "code",
      "source": [
        "reflection_prompt = \"\"\"\n",
        "What is 25 + 37?\n",
        "\n",
        "Answer: 62.\n",
        "\n",
        "Is this answer correct?\n",
        "Reflection: Yes, 25 + 37 = 62.\n",
        "\"\"\"\n",
        "print(\"Reflection Response:\\n\", get_response(reflection_prompt))\n"
      ],
      "metadata": {
        "colab": {
          "base_uri": "https://localhost:8080/"
        },
        "id": "t5c5xZqAfJLF",
        "outputId": "11251e10-5df9-46c4-8d36-c62100a58210"
      },
      "execution_count": 16,
      "outputs": [
        {
          "output_type": "stream",
          "name": "stdout",
          "text": [
            "Reflection Response:\n",
            " Yes, the answer is correct.\n"
          ]
        }
      ]
    },
    {
      "cell_type": "code",
      "source": [
        "react_prompt = \"\"\"\n",
        "Task: Find the capital of France and book a ticket to that city.\n",
        "\n",
        "Step 1: The capital of France is Paris.\n",
        "Step 2: Book a flight ticket to Paris.\n",
        "\"\"\"\n",
        "print(\"ReAct Response:\\n\", get_response(react_prompt))\n"
      ],
      "metadata": {
        "colab": {
          "base_uri": "https://localhost:8080/"
        },
        "id": "7ZEnjZj0fKVr",
        "outputId": "652344d3-8b4f-4fcd-d415-77895e40996d"
      },
      "execution_count": 15,
      "outputs": [
        {
          "output_type": "stream",
          "name": "stdout",
          "text": [
            "ReAct Response:\n",
            " Step 3: Use an online travel agency such as Expedia, Skyscanner, or Kayak to search for available flights to Paris.\n",
            "Step 4: Input your departure city, preferred travel dates, and number of passengers.\n",
            "Step 5: Browse through the available options and select a flight that best suits your schedule and budget.\n",
            "Step 6: Provide the necessary information like your full name, date of birth, and passport details.\n",
            "Step 7: Provide your payment information and confirm your booking.\n",
            "Step 8: Once the payment is successful, you will receive a confirmation email with your flight details. \n",
            "Step 9: Ensure to check the visa requirements if you're traveling from a country outside the Schengen area.\n",
            "Step\n"
          ]
        }
      ]
    },
    {
      "cell_type": "code",
      "source": [
        "error_correction_prompt = \"\"\"\n",
        "If I have 20 apples and give away 5, how many are left?\n",
        "Answer: 15.\n",
        "\n",
        "Check the answer for errors.\n",
        "Verification: Correct, 20 - 5 = 15.\n",
        "\"\"\"\n",
        "print(\"Self-Error Correction Response:\\n\", get_response(error_correction_prompt))\n"
      ],
      "metadata": {
        "colab": {
          "base_uri": "https://localhost:8080/"
        },
        "id": "4M-8s1O5fLjE",
        "outputId": "480a261f-acfb-404c-dcf3-461edf366c2b"
      },
      "execution_count": 14,
      "outputs": [
        {
          "output_type": "stream",
          "name": "stdout",
          "text": [
            "Self-Error Correction Response:\n",
            " The answer is correct.\n"
          ]
        }
      ]
    },
    {
      "cell_type": "code",
      "source": [
        "collaborative_prompt = \"\"\"\n",
        "Agent A: Let's start with dividing 50 by 5.\n",
        "Agent B: The answer is 10.\n",
        "Agent C: I agree with the solution.\n",
        "Answer: 10\n",
        "\"\"\"\n",
        "print(\"Collaborative Response:\\n\", get_response(collaborative_prompt))\n"
      ],
      "metadata": {
        "colab": {
          "base_uri": "https://localhost:8080/"
        },
        "id": "Blnk0z-SfN5B",
        "outputId": "7fea71c7-4fda-460c-af36-5c7617583e0f"
      },
      "execution_count": 13,
      "outputs": [
        {
          "output_type": "stream",
          "name": "stdout",
          "text": [
            "Collaborative Response:\n",
            " Agent A: Now let's subtract 2 from 10.\n",
            "Agent B: The answer is 8.\n",
            "Agent C: I agree with the solution.\n",
            "Answer: 8\n"
          ]
        }
      ]
    },
    {
      "cell_type": "code",
      "source": [
        "role_play_prompt = \"\"\"\n",
        "You are a nutritionist. Explain why vegetables are important.\n",
        "\n",
        "Response:\n",
        "Vegetables provide essential vitamins and minerals, dietary fiber, and antioxidants that are crucial for health.\n",
        "\"\"\"\n",
        "print(\"Role Play Response:\\n\", get_response(role_play_prompt))\n"
      ],
      "metadata": {
        "colab": {
          "base_uri": "https://localhost:8080/"
        },
        "id": "CR4XpFzAfPR1",
        "outputId": "e10635d1-ab55-4453-89e5-0cc697cfec35"
      },
      "execution_count": 11,
      "outputs": [
        {
          "output_type": "stream",
          "name": "stdout",
          "text": [
            "Role Play Response:\n",
            " 1. Vitamins and Minerals: Vegetables are rich in a variety of vitamins and minerals that are essential for the body's functions. For example, they provide vitamin A which is important for eye health, vitamin C which supports the immune system, and potassium which helps maintain healthy blood pressure.\n",
            "\n",
            "2. Dietary Fiber: Vegetables are high in dietary fiber, which helps in maintaining a healthy digestive system. Fiber aids in regular bowel movements, reducing the risk of constipation and diverticular disease. It also helps in weight management by making you feel full.\n",
            "\n",
            "3. Antioxidants: These are substances that help protect cells in the body from damage by free radicals, thus reducing the risk of chronic diseases like heart disease, diabetes, and certain types of cancer\n"
          ]
        }
      ]
    },
    {
      "cell_type": "code",
      "source": [
        "interactive_prompt = \"\"\"\n",
        "Step 1: Multiply 8 by 3.\n",
        "User: 24.\n",
        "\n",
        "Step 2: Add 10 to the result.\n",
        "Answer:\n",
        "\"\"\"\n",
        "print(\"Interactive Response:\\n\", get_response(interactive_prompt))\n"
      ],
      "metadata": {
        "colab": {
          "base_uri": "https://localhost:8080/"
        },
        "id": "h4RhpwHEfQbg",
        "outputId": "577265ce-c7bd-49b8-ad8d-452419241548"
      },
      "execution_count": 10,
      "outputs": [
        {
          "output_type": "stream",
          "name": "stdout",
          "text": [
            "Interactive Response:\n",
            " 34\n"
          ]
        }
      ]
    },
    {
      "cell_type": "code",
      "source": [
        "hypothetical_prompt = \"\"\"\n",
        "What if gravity was half as strong on Earth?\n",
        "\n",
        "Response: People would weigh half as much, and jumping would become easier.\n",
        "\"\"\"\n",
        "print(\"Hypothetical Scenario Response:\\n\", get_response(hypothetical_prompt))\n"
      ],
      "metadata": {
        "id": "PLGemHQ8fRqU"
      },
      "execution_count": 9,
      "outputs": []
    },
    {
      "cell_type": "code",
      "source": [
        "mcq_prompt = \"\"\"\n",
        "Which planet is closest to the sun?\n",
        "A) Earth\n",
        "B) Venus\n",
        "C) Mercury\n",
        "Answer: C) Mercury\n",
        "\"\"\"\n",
        "print(\"Multiple Choice Response:\\n\", get_response(mcq_prompt))\n"
      ],
      "metadata": {
        "colab": {
          "base_uri": "https://localhost:8080/"
        },
        "id": "koJjAGX0fS3P",
        "outputId": "7647affe-261d-4943-9cb5-bc3907024e9c"
      },
      "execution_count": 8,
      "outputs": [
        {
          "output_type": "stream",
          "name": "stdout",
          "text": [
            "Multiple Choice Response:\n",
            " C) Mercury\n"
          ]
        }
      ]
    },
    {
      "cell_type": "code",
      "source": [
        "analogy_prompt = \"\"\"\n",
        "Learning Python is like learning a new language. Just like speaking a language involves practice and vocabulary, coding involves syntax and problem-solving skills.\n",
        "\"\"\"\n",
        "print(\"Analogical Reasoning Response:\\n\", get_response(analogy_prompt))\n"
      ],
      "metadata": {
        "colab": {
          "base_uri": "https://localhost:8080/"
        },
        "id": "nJWPVSOXfUOT",
        "outputId": "0d578e5d-7c6f-447f-b98d-a79e8b62014e"
      },
      "execution_count": 7,
      "outputs": [
        {
          "output_type": "stream",
          "name": "stdout",
          "text": [
            "Analogical Reasoning Response:\n",
            " Python is one of the most popular programming languages today. It is widely used for various applications such as web development, data analysis, artificial intelligence, and more. Learning Python can open up many opportunities for you, whether you're a student, a professional, or someone who's just interested in programming.\n",
            "\n",
            "Here are some tips on how to learn Python effectively:\n",
            "\n",
            "1. Understand the basics: Before you start coding, it's important to understand the basics of Python. This includes understanding what Python is, what it's used for, and how it works. You can find many resources online to help you with this.\n",
            "\n",
            "2. Practice coding: Just like learning a new language, the best way to learn Python is by practicing. Start by writing simple programs and\n"
          ]
        }
      ]
    }
  ]
}