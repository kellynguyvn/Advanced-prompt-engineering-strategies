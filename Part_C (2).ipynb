{
  "nbformat": 4,
  "nbformat_minor": 0,
  "metadata": {
    "colab": {
      "provenance": []
    },
    "kernelspec": {
      "name": "python3",
      "display_name": "Python 3"
    },
    "language_info": {
      "name": "python"
    }
  },
  "cells": [
    {
      "cell_type": "markdown",
      "source": [
        "## Pick 10 diverse fields (like hr, teaching, finance etc..,) and write three very useful diverse prompts for each field with test cases\n",
        "### Fields\n",
        "\n",
        "\n",
        "1.   HR\n",
        "2.   Teaching\n",
        "3.  Finance\n",
        "4. Marketing\n",
        "5. Healthcare\n",
        "6. Legal\n",
        "7. Real Estate\n",
        "8. Customeer Service\n",
        "9. Project Management\n",
        "10. Entertainment\n",
        "\n",
        "\n"
      ],
      "metadata": {
        "id": "W71Ef4_6gTUw"
      }
    },
    {
      "cell_type": "code",
      "source": [
        "## Setup\n",
        "!pip install openai==0.28\n",
        "import openai\n",
        "\n",
        "# Set your OpenAI API key\n",
        "openai.api_key = \"OPEN-API-KEY\"\n",
        "\n",
        "# Function to call the OpenAI API for simple prompts (like before)\n",
        "def get_response(icl_prompt, model=\"gpt-4\"):\n",
        "    response = openai.ChatCompletion.create(\n",
        "        model=model,\n",
        "        messages=[\n",
        "            {\"role\": \"user\", \"content\": icl_prompt}\n",
        "        ],\n",
        "        max_tokens=150,\n",
        "        temperature=0.7\n",
        "    )\n",
        "    return response['choices'][0]['message']['content'].strip()"
      ],
      "metadata": {
        "colab": {
          "base_uri": "https://localhost:8080/"
        },
        "id": "DJCy4-Qtg5dh",
        "outputId": "5d25b724-678e-4110-e0f6-f57d2e9623eb"
      },
      "execution_count": 2,
      "outputs": [
        {
          "output_type": "stream",
          "name": "stdout",
          "text": [
            "Requirement already satisfied: openai==0.28 in /usr/local/lib/python3.10/dist-packages (0.28.0)\n",
            "Requirement already satisfied: requests>=2.20 in /usr/local/lib/python3.10/dist-packages (from openai==0.28) (2.32.3)\n",
            "Requirement already satisfied: tqdm in /usr/local/lib/python3.10/dist-packages (from openai==0.28) (4.66.6)\n",
            "Requirement already satisfied: aiohttp in /usr/local/lib/python3.10/dist-packages (from openai==0.28) (3.11.2)\n",
            "Requirement already satisfied: charset-normalizer<4,>=2 in /usr/local/lib/python3.10/dist-packages (from requests>=2.20->openai==0.28) (3.4.0)\n",
            "Requirement already satisfied: idna<4,>=2.5 in /usr/local/lib/python3.10/dist-packages (from requests>=2.20->openai==0.28) (3.10)\n",
            "Requirement already satisfied: urllib3<3,>=1.21.1 in /usr/local/lib/python3.10/dist-packages (from requests>=2.20->openai==0.28) (2.2.3)\n",
            "Requirement already satisfied: certifi>=2017.4.17 in /usr/local/lib/python3.10/dist-packages (from requests>=2.20->openai==0.28) (2024.8.30)\n",
            "Requirement already satisfied: aiohappyeyeballs>=2.3.0 in /usr/local/lib/python3.10/dist-packages (from aiohttp->openai==0.28) (2.4.3)\n",
            "Requirement already satisfied: aiosignal>=1.1.2 in /usr/local/lib/python3.10/dist-packages (from aiohttp->openai==0.28) (1.3.1)\n",
            "Requirement already satisfied: attrs>=17.3.0 in /usr/local/lib/python3.10/dist-packages (from aiohttp->openai==0.28) (24.2.0)\n",
            "Requirement already satisfied: frozenlist>=1.1.1 in /usr/local/lib/python3.10/dist-packages (from aiohttp->openai==0.28) (1.5.0)\n",
            "Requirement already satisfied: multidict<7.0,>=4.5 in /usr/local/lib/python3.10/dist-packages (from aiohttp->openai==0.28) (6.1.0)\n",
            "Requirement already satisfied: propcache>=0.2.0 in /usr/local/lib/python3.10/dist-packages (from aiohttp->openai==0.28) (0.2.0)\n",
            "Requirement already satisfied: yarl<2.0,>=1.17.0 in /usr/local/lib/python3.10/dist-packages (from aiohttp->openai==0.28) (1.17.2)\n",
            "Requirement already satisfied: async-timeout<6.0,>=4.0 in /usr/local/lib/python3.10/dist-packages (from aiohttp->openai==0.28) (4.0.3)\n",
            "Requirement already satisfied: typing-extensions>=4.1.0 in /usr/local/lib/python3.10/dist-packages (from multidict<7.0,>=4.5->aiohttp->openai==0.28) (4.12.2)\n"
          ]
        }
      ]
    },
    {
      "cell_type": "markdown",
      "source": [
        "## Field 1: Human Resources (HR)"
      ],
      "metadata": {
        "id": "gKMBSO-NhByf"
      }
    },
    {
      "cell_type": "code",
      "execution_count": 3,
      "metadata": {
        "colab": {
          "base_uri": "https://localhost:8080/"
        },
        "id": "Ntz2fvobgN9w",
        "outputId": "f8b9acbd-3ea8-4308-9735-f7c9c6034f79"
      },
      "outputs": [
        {
          "output_type": "stream",
          "name": "stdout",
          "text": [
            "Subject: Invitation for Software Engineer Position Interview at ABC Corp\n",
            "\n",
            "Dear Mr. Doe,\n",
            "\n",
            "I hope this email finds you well. I am pleased to inform you that after reviewing your application and portfolio, we are impressed with your qualifications and would like to invite you for an interview for the Software Engineer position here at ABC Corp.\n",
            "\n",
            "We believe that your skills and experience could be a great match for our team and we are eager to learn more about your background and discuss how your expertise could be of value to our company.\n",
            "\n",
            "The purpose of the interview will be to further assess your suitability for the role, understand your career aspirations, and also provide you with an opportunity to ask any questions you may have about the role or our company.\n",
            "\n",
            "The available time slots for the\n"
          ]
        }
      ],
      "source": [
        "hr_prompt_1 = \"Draft an email inviting John Doe for an interview for the Software Engineer position at ABC Corp. Include possible times and next steps for scheduling.\"\n",
        "print(get_response(hr_prompt_1))\n"
      ]
    },
    {
      "cell_type": "code",
      "source": [
        "hr_prompt_2 = \"Summarize the parental leave policy for employees in a friendly tone. Mention eligibility, duration, and how to apply.\"\n",
        "print(get_response(hr_prompt_2))\n"
      ],
      "metadata": {
        "colab": {
          "base_uri": "https://localhost:8080/"
        },
        "id": "PxLxmcFDhE_Y",
        "outputId": "2ba3d68c-9ee6-4b3b-8bb9-e497c49515be"
      },
      "execution_count": 4,
      "outputs": [
        {
          "output_type": "stream",
          "name": "stdout",
          "text": [
            "Hey there!\n",
            "\n",
            "We are so excited to share our company's parental leave policy with you. We understand that welcoming a new child is a significant moment in your life, and we want to support you during this time. \n",
            "\n",
            "So, let's get into it!\n",
            "\n",
            "Whether you're about to become a parent through birth, adoption, or foster care placement, you're eligible for parental leave. We believe that every parent deserves time to bond with their new child, regardless of their gender, so both mothers and fathers can take advantage of this policy. \n",
            "\n",
            "As for the duration, you get to enjoy a substantial period off to focus on your family. Our policy allows for up to 12 weeks of leave. The best part? That time off is paid,\n"
          ]
        }
      ]
    },
    {
      "cell_type": "code",
      "source": [
        "hr_prompt_3 = \"How should an HR manager mediate a conflict between two team members? Outline the steps in a professional tone.\"\n",
        "print(get_response(hr_prompt_3))\n"
      ],
      "metadata": {
        "colab": {
          "base_uri": "https://localhost:8080/"
        },
        "id": "dbv9kUuzhGOx",
        "outputId": "985d5d4e-9f0b-4e1b-9984-389f73611a5e"
      },
      "execution_count": 5,
      "outputs": [
        {
          "output_type": "stream",
          "name": "stdout",
          "text": [
            "1. Acknowledge the Conflict: The first step in resolving a dispute is to acknowledge its existence. The HR manager should not ignore the problem, hoping it will resolve itself. Instead, he or she should address the issue head-on.\n",
            "\n",
            "2. Gather Information: The HR manager should conduct a preliminary investigation to gather all the pertinent facts. This may involve talking to the two parties separately to understand their perspectives. Understanding the root cause of the conflict is crucial for its resolution.\n",
            "\n",
            "3. Arrange a Meeting: Once the HR manager has a clear understanding of the situation, he or she should arrange a meeting with the two conflicting parties. This step allows the parties to express their feelings and opinions in a controlled, moderated environment.\n",
            "\n",
            "4. Facilitate Discussion:\n"
          ]
        }
      ]
    },
    {
      "cell_type": "markdown",
      "source": [
        "## Field 2: Teaching\n"
      ],
      "metadata": {
        "id": "VM8hKfPQhOAP"
      }
    },
    {
      "cell_type": "code",
      "source": [
        "teaching_prompt_1 = \"Create an interactive lesson plan on photosynthesis for 5th graders. Include one activity and two questions for class engagement.\"\n",
        "print(get_response(teaching_prompt_1))\n"
      ],
      "metadata": {
        "colab": {
          "base_uri": "https://localhost:8080/"
        },
        "id": "vsetM7u0hxzh",
        "outputId": "f88ec27c-f8ba-46a5-be5b-9b5deda6b6f1"
      },
      "execution_count": 6,
      "outputs": [
        {
          "output_type": "stream",
          "name": "stdout",
          "text": [
            "Lesson Plan: Photosynthesis for 5th Graders\n",
            "\n",
            "Objective: At the end of this lesson, students will understand the process of photosynthesis and its importance for all life on Earth.\n",
            "\n",
            "Materials:\n",
            "1. Chart paper\n",
            "2. Markers\n",
            "3. Small plants for each student\n",
            "4. Flashlights\n",
            "5. Carbon dioxide, water, and oxygen molecule model kits\n",
            "\n",
            "Lesson Procedure:\n",
            "\n",
            "1. Introduction (10 minutes)\n",
            "   - Begin the lesson by asking the students what they ate for breakfast. Write down their responses on the chart paper.\n",
            "   - Ask if they know where their food comes from. Discuss the concept of food chains and how, at the very beginning, it always starts with a plant.\n",
            "   - Introduce the term '\n"
          ]
        }
      ]
    },
    {
      "cell_type": "code",
      "source": [
        "teaching_prompt_2 = \"Provide constructive feedback for a student who scored 55% on a recent science test. Encourage them with ways to improve.\"\n",
        "print(get_response(teaching_prompt_2))\n"
      ],
      "metadata": {
        "colab": {
          "base_uri": "https://localhost:8080/"
        },
        "id": "OPEdcJ1Rhz22",
        "outputId": "f8cb3bd3-5f35-4ed2-b831-157ae0177e9a"
      },
      "execution_count": 7,
      "outputs": [
        {
          "output_type": "stream",
          "name": "stdout",
          "text": [
            "Subject: Constructive Feedback on Recent Science Test\n",
            "\n",
            "Dear [Student's Name],\n",
            "\n",
            "I hope this message finds you well. I am writing to provide you with feedback on your recent science test, in which you scored 55%.\n",
            "\n",
            "Firstly, don't get discouraged by this score. Remember, it's not a reflection of your intelligence or potential. It simply signifies an opportunity for growth and improvement. Science can be a challenging subject, but with persistence and the right approaches, I am confident that you can improve.\n",
            "\n",
            "Here are a few strategies you might consider to improve your performance:\n",
            "\n",
            "1. Review Material Regularly: I recommend reviewing your notes and the key concepts regularly, not just before the test. This will help reinforce your understanding and retention of the material\n"
          ]
        }
      ]
    },
    {
      "cell_type": "code",
      "source": [
        "teaching_prompt_3 = \"Role play as Alexander Hamilton. Explain why establishing a national bank is important.\"\n",
        "print(get_response(teaching_prompt_3))\n"
      ],
      "metadata": {
        "colab": {
          "base_uri": "https://localhost:8080/"
        },
        "id": "SQ5QHZc-h17H",
        "outputId": "a292eeb6-183f-4db2-d280-66b81792b31e"
      },
      "execution_count": 8,
      "outputs": [
        {
          "output_type": "stream",
          "name": "stdout",
          "text": [
            "My fellow countrymen, the establishment of a national bank is of utmost importance for the soundness and prosperity of our young nation. There are several reasons why I, Alexander Hamilton, am advocating for this.\n",
            "\n",
            "Firstly, a national bank will ensure that our government is financially stable, enabling us to manage our debts both domestically and internationally. With the Revolutionary War behind us, we are burdened with considerable war debts that must be paid off. A national bank will provide us with the necessary financial structures to repay these debts and establish fiscal credibility on the global stage.\n",
            "\n",
            "Secondly, a national bank will provide a uniform currency across the nation, promoting trade and economic growth. Currently, our nation is using a myriad of currencies issued by different states, which has\n"
          ]
        }
      ]
    },
    {
      "cell_type": "markdown",
      "source": [
        "## Field 3: Finance\n"
      ],
      "metadata": {
        "id": "Lb2nhTu5hTQD"
      }
    },
    {
      "cell_type": "code",
      "source": [
        "finance_prompt_1 = \"Summarize the advantages and disadvantages of bond investments for someone with a conservative risk profile.\"\n",
        "print(get_response(finance_prompt_1))\n"
      ],
      "metadata": {
        "colab": {
          "base_uri": "https://localhost:8080/"
        },
        "id": "zqYizaIOh3gy",
        "outputId": "21054295-4e51-4f73-a2cd-a9bdaab5a4f0"
      },
      "execution_count": 9,
      "outputs": [
        {
          "output_type": "stream",
          "name": "stdout",
          "text": [
            "Advantages of Bond Investments for a Conservative Investor:\n",
            "\n",
            "1. Regular Income: Bonds typically pay interest periodically, providing a steady stream of income for the investor. \n",
            "\n",
            "2. Capital Preservation: Bonds are considered less risky than stocks. The investor is guaranteed to receive the face value of the bond upon maturity, assuming the issuer doesn't default.\n",
            "\n",
            "3. Diversification: Investing in bonds can provide diversification to an investment portfolio, reducing risk.\n",
            "\n",
            "4. Predictability: Bonds have fixed interest rates and maturity dates, making them predictable investments.\n",
            "\n",
            "Disadvantages of Bond Investments for a Conservative Investor:\n",
            "\n",
            "1. Low Returns: Bonds generally have lower returns compared to other investments like stocks.\n",
            "\n",
            "2. Interest Rate Risk: When interest rates rise, bond prices fall.\n"
          ]
        }
      ]
    },
    {
      "cell_type": "code",
      "source": [
        "finance_prompt_2 = \"Create a monthly budget for someone earning $4,000 with common expenses like rent, groceries, and utilities.\"\n",
        "print(get_response(finance_prompt_2))\n"
      ],
      "metadata": {
        "colab": {
          "base_uri": "https://localhost:8080/"
        },
        "id": "GIzOung2h4pD",
        "outputId": "4351a359-36be-4c96-f77f-936bd43587d7"
      },
      "execution_count": 10,
      "outputs": [
        {
          "output_type": "stream",
          "name": "stdout",
          "text": [
            "Here is a sample monthly budget for someone earning $4000, which is based on the 50/30/20 budgeting rule. This rule suggests that 50% of your income should go to needs, 30% to wants, and 20% to savings and debt repayment.\n",
            "\n",
            "1. Income: $4000\n",
            "\n",
            "Needs - 50% of Income = $2000\n",
            "\n",
            "2. Rent/Housing: $1000 - This generally should not exceed 30% of your income.\n",
            "3. Utilities (Electric, Gas, Water, Internet): $150\n",
            "4. Groceries: $300\n",
            "5. Health (Insurance, Medications, etc.): $200\n",
            "6. Transportation (Car payment, Insurance, Gas,\n"
          ]
        }
      ]
    },
    {
      "cell_type": "code",
      "source": [
        "finance_prompt_3 = \"Explain the concept of dollar-cost averaging to someone unfamiliar with investing.\"\n",
        "print(get_response(finance_prompt_3))\n"
      ],
      "metadata": {
        "colab": {
          "base_uri": "https://localhost:8080/"
        },
        "id": "24iHQ2bTh5wn",
        "outputId": "e7e9f8db-26df-4a72-ba13-52c904ff3899"
      },
      "execution_count": 11,
      "outputs": [
        {
          "output_type": "stream",
          "name": "stdout",
          "text": [
            "Dollar-cost averaging is an investment technique where you regularly invest a fixed amount of money over time, regardless of the price of the investment at that time. This strategy can potentially reduce the impact of volatility on the overall purchase. \n",
            "\n",
            "For example, if you decided to invest $100 a month in a specific stock, some months you might buy when the price is high, and other months you might buy when the price is low. Over time, the idea is that the average cost of your shares will be lower than the average price of the shares. \n",
            "\n",
            "Dollar-cost averaging allows investors to avoid making a large investment in a single stock at a potentially inopportune time. Instead, by spreading out their purchases, they reduce the risk of buying\n"
          ]
        }
      ]
    },
    {
      "cell_type": "markdown",
      "source": [
        "## Field 4: Marketing\n"
      ],
      "metadata": {
        "id": "_OiUmhfThWQR"
      }
    },
    {
      "cell_type": "code",
      "source": [
        "marketing_prompt_1 = \"Write a social media post to promote our new eco-friendly water bottle for young adults.\"\n",
        "print(get_response(marketing_prompt_1))\n"
      ],
      "metadata": {
        "colab": {
          "base_uri": "https://localhost:8080/"
        },
        "id": "4UX2V7vFh7MH",
        "outputId": "3c7748b8-ccd5-45ce-e910-303d016e87d9"
      },
      "execution_count": 12,
      "outputs": [
        {
          "output_type": "stream",
          "name": "stdout",
          "text": [
            "💧🌱 Say hello to hydration with a conscience! Our brand new, eco-friendly water bottles are here! Not only are they stylish and durable, they're also kind to Mother Earth. 🌍 Perfect for the gym, office, or your next adventure, these bottles are a must-have for the conscious young adult. #StayHydrated #EcoFriendly #SaveThePlanet\n",
            "\n",
            "📸 Share your hydration journey with us using #EcoHydration and let's make a difference together! 💪 Shop now and join the eco revolution! 🛍️🔗\n"
          ]
        }
      ]
    },
    {
      "cell_type": "code",
      "source": [
        "marketing_prompt_2 = \"Write a product description for a luxury wristwatch, highlighting its craftsmanship and timeless style.\"\n",
        "print(get_response(marketing_prompt_2))\n"
      ],
      "metadata": {
        "colab": {
          "base_uri": "https://localhost:8080/"
        },
        "id": "SeD4gOGOh8Jk",
        "outputId": "c461b472-9ef9-4e68-b213-f7809a787a87"
      },
      "execution_count": 13,
      "outputs": [
        {
          "output_type": "stream",
          "name": "stdout",
          "text": [
            "Introducing our exquisite luxury wristwatch - a true blend of elegant design, precise craftsmanship, and timeless style. Every piece of this masterpiece is meticulously designed by our skilled craftsmen, using traditional watchmaking techniques coupled with state-of-the-art technology. \n",
            "\n",
            "The watch features a superior Swiss automatic movement, ensuring unrivalled accuracy and reliability. Encased in a sleek, durable stainless steel body with a sapphire crystal glass, this wristwatch exudes sophistication and strength. The watch face exhibits a clean and classic design with Roman numeral hour markers, adding a touch of timeless elegance.\n",
            "\n",
            "The watch's band, made from genuine Italian leather, is both comfortable and durable. It attaches seamlessly to the watch case, creating a unified, sleek look that fits superbly\n"
          ]
        }
      ]
    },
    {
      "cell_type": "code",
      "source": [
        "marketing_prompt_3 = \"What are the key differences between targeting millennials and Gen Z in digital marketing?\"\n",
        "print(get_response(marketing_prompt_3))\n"
      ],
      "metadata": {
        "colab": {
          "base_uri": "https://localhost:8080/"
        },
        "id": "pkQ7iTxHh9NK",
        "outputId": "052872f1-ac1a-4114-9f9a-94967857112d"
      },
      "execution_count": 14,
      "outputs": [
        {
          "output_type": "stream",
          "name": "stdout",
          "text": [
            "1. Use of Technology: Millennials were the first generation to grow up with the internet, while Gen Z were born into a world already dominated by it. As a result, Gen Z are more tech-savvy and tend to be more comfortable with newer technologies such as VR and AR. Therefore, marketing strategies targeting Gen Z may need to incorporate these technologies more often.\n",
            "\n",
            "2. Social Media Platforms: Millennials are more likely to use Facebook, while Gen Z prefers platforms like Instagram, Snapchat, and TikTok. Therefore, the choice of social media platform for advertising can vary depending on the generation you are targeting.\n",
            "\n",
            "3. Content Preference: Millennials tend to prefer long-form content, while Gen Z prefers short, visually appealing, and bite-sized content. Therefore\n"
          ]
        }
      ]
    },
    {
      "cell_type": "markdown",
      "source": [
        "## Field 5: Healthcare\n"
      ],
      "metadata": {
        "id": "AtAJ4W1LhYvb"
      }
    },
    {
      "cell_type": "code",
      "source": [
        "healthcare_prompt_1 = \"Explain hypertension in simple language and why controlling it is important for health.\"\n",
        "print(get_response(healthcare_prompt_1))\n"
      ],
      "metadata": {
        "colab": {
          "base_uri": "https://localhost:8080/"
        },
        "id": "uxCQomQXh_j_",
        "outputId": "023a3fad-1edc-403a-816e-c4df0328b2e3"
      },
      "execution_count": 15,
      "outputs": [
        {
          "output_type": "stream",
          "name": "stdout",
          "text": [
            "Hypertension, also known as high blood pressure, is a condition where the force of blood against the walls of your blood vessels is consistently too high. It's like having too much air pressure in a tire; it can damage the tire or even cause it to burst.\n",
            "\n",
            "Controlling hypertension is important because over time it can cause health issues like heart disease, stroke, kidney disease, and other serious problems. It's like if you keep driving on a tire with too much pressure, it might suddenly blow out and cause an accident. So, just like you would regularly check the air pressure in your tires, it's important to regularly check your blood pressure and keep it at a safe level.\n"
          ]
        }
      ]
    },
    {
      "cell_type": "code",
      "source": [
        "healthcare_prompt_2 = \"Write a reminder message for a dental appointment on June 10th at 3 PM, including instructions to bring ID and insurance card.\"\n",
        "print(get_response(healthcare_prompt_2))\n"
      ],
      "metadata": {
        "colab": {
          "base_uri": "https://localhost:8080/"
        },
        "id": "xOFyoKIxiAgj",
        "outputId": "4cde9ca8-6fe7-4e27-bbe6-319f12b2b57e"
      },
      "execution_count": 16,
      "outputs": [
        {
          "output_type": "stream",
          "name": "stdout",
          "text": [
            "Subject: Reminder: Dental Appointment on June 10th at 3 PM\n",
            "\n",
            "Dear [Your Name],\n",
            "\n",
            "This is a friendly reminder about your upcoming dental appointment on June 10th at 3 PM. Please ensure to arrive on time to facilitate a smooth process.\n",
            "\n",
            "Also, it's very important that you bring your ID and insurance card. Without these, we may not be able to carry out the planned procedure or check-up. \n",
            "\n",
            "Looking forward to seeing you!\n",
            "\n",
            "Best regards,\n",
            "[Your Dental Office]\n"
          ]
        }
      ]
    },
    {
      "cell_type": "code",
      "source": [
        "healthcare_prompt_3 = \"What lifestyle changes can help reduce high cholesterol levels?\"\n",
        "print(get_response(healthcare_prompt_3))\n"
      ],
      "metadata": {
        "colab": {
          "base_uri": "https://localhost:8080/"
        },
        "id": "TozcG5dziBnI",
        "outputId": "d626fde2-8abf-43ff-8fed-797e9a22a634"
      },
      "execution_count": 17,
      "outputs": [
        {
          "output_type": "stream",
          "name": "stdout",
          "text": [
            "1. Healthy Eating: Incorporate heart-healthy foods into your diet. Reduce saturated fats, eliminate trans fats, and increase omega-3 fatty acids. Eat more fruits, vegetables, and whole grains. \n",
            "\n",
            "2. Regular Exercise: Engage in physical activities for at least 30 minutes a day. It can raise your high-density lipoprotein (HDL) cholesterol, the \"good\" cholesterol, while lowering your low-density lipoprotein (LDL), the \"bad\" cholesterol. \n",
            "\n",
            "3. Weight Loss: Losing excess weight contributes significantly to lowering cholesterol levels. \n",
            "\n",
            "4. Quit Smoking: Smoking lowers your good cholesterol, increases your bad cholesterol and can damage your blood vessels, making them more prone to accumulate fatty deposits.\n",
            "\n",
            "5.\n"
          ]
        }
      ]
    },
    {
      "cell_type": "markdown",
      "source": [
        "## Field 6: Legal\n"
      ],
      "metadata": {
        "id": "68AyyakhheIk"
      }
    },
    {
      "cell_type": "code",
      "source": [
        "legal_prompt_1 = \"Summarize the key points of a non-disclosure agreement in simple language.\"\n",
        "print(get_response(legal_prompt_1))\n"
      ],
      "metadata": {
        "colab": {
          "base_uri": "https://localhost:8080/"
        },
        "id": "gAULm1XgiC_v",
        "outputId": "2755f931-ae85-4c2d-9249-2d036a6cf72b"
      },
      "execution_count": 18,
      "outputs": [
        {
          "output_type": "stream",
          "name": "stdout",
          "text": [
            "1. Privacy: All information that you receive must be kept confidential and not shared with anyone else.\n",
            "2. Purpose: The information can only be used for the purpose specified in the agreement, and not for any other reason.\n",
            "3. Return or Destruction: If the agreement ends or if the other party asks, you must return or destroy all confidential information.\n",
            "4. Exceptions: Some information might be excluded from the agreement, like if it's already publicly known or if you had the information before the agreement.\n",
            "5. Consequences: If you break the agreement, there could be legal consequences like being sued for damages.\n",
            "6. Duration: The agreement will specify how long it lasts. Some might be indefinite, others might last for a specific time period.\n"
          ]
        }
      ]
    },
    {
      "cell_type": "code",
      "source": [
        "legal_prompt_2 = \"Explain the rights an employee has if they are wrongfully terminated.\"\n",
        "print(get_response(legal_prompt_2))\n"
      ],
      "metadata": {
        "colab": {
          "base_uri": "https://localhost:8080/"
        },
        "id": "xtiWoyYEiD7t",
        "outputId": "3bc03e8e-a73f-4bbb-a91c-7654d02e2656"
      },
      "execution_count": 19,
      "outputs": [
        {
          "output_type": "stream",
          "name": "stdout",
          "text": [
            "Employee rights vary from one country to another and also depend on the specific employment laws of each region. However, in general, if an employee believes they have been wrongfully terminated, they may have the right to:\n",
            "\n",
            "1. Severance Pay: In some jurisdictions, employees are entitled to receive severance pay if they are terminated without cause. The amount generally depends on the length of employment.\n",
            "\n",
            "2. Unemployment Benefits: Employees who are terminated wrongfully have the right to apply for and receive unemployment benefits.\n",
            "\n",
            "3. Legal Recourse: Employees can take legal action against their former employers. This could involve filing a lawsuit for wrongful termination, filing a complaint with a labor board or human rights commission.\n",
            "\n",
            "4. Reinstatement: If a lawsuit or a\n"
          ]
        }
      ]
    },
    {
      "cell_type": "code",
      "source": [
        "legal_prompt_3 = \"As a lawyer, advise your client who has received a speeding ticket.\"\n",
        "print(get_response(legal_prompt_3))\n"
      ],
      "metadata": {
        "colab": {
          "base_uri": "https://localhost:8080/"
        },
        "id": "7FYbiyEQiE6Q",
        "outputId": "26ef1cd4-07d4-4d2b-f4a4-e3ec550ca99d"
      },
      "execution_count": 20,
      "outputs": [
        {
          "output_type": "stream",
          "name": "stdout",
          "text": [
            "As your lawyer, my advice would be as follows:\n",
            "\n",
            "1. Request a copy of the ticket: You will need a copy of the ticket to know the exact charges, the time and place of the incident, and the name of the officer who issued the ticket.\n",
            "\n",
            "2. Evaluate the situation: Check if there were any conditions that may have led to a false reading such as a fault in the equipment or the presence of other vehicles. Was there anything that obstructed the view of the officer that might have led to a misjudgment?\n",
            "\n",
            "3. Plea options: Depending on the severity of the ticket, you can choose to plead guilty and pay the fine, plead not guilty and contest the ticket, or plead guilty with an explanation. Each plea\n"
          ]
        }
      ]
    },
    {
      "cell_type": "markdown",
      "source": [
        "## Field 7: Real Estate\n"
      ],
      "metadata": {
        "id": "LzZ3Yb3lhqq7"
      }
    },
    {
      "cell_type": "code",
      "source": [
        "real_estate_prompt_1 = \"Write a compelling listing description for a two-bedroom beach house.\"\n",
        "print(get_response(real_estate_prompt_1))\n"
      ],
      "metadata": {
        "colab": {
          "base_uri": "https://localhost:8080/"
        },
        "id": "v52eWF2-iHoo",
        "outputId": "cc740dad-4f3b-4819-9636-5a9a76b47ba1"
      },
      "execution_count": 21,
      "outputs": [
        {
          "output_type": "stream",
          "name": "stdout",
          "text": [
            "Welcome to our stunning two-bedroom beach house, nestled on a serene stretch of white sandy beach. This charming beachfront property is a hidden gem that offers breathtaking panoramic ocean views, magical sunsets, and a peaceful ambiance that promises a perfect vacation getaway. \n",
            "\n",
            "Stepping into the house, you'll be greeted by a sun-drenched open floor plan and an inviting, tastefully decorated living area. The full-length glass doors not only provide an uninterrupted view of the sparkling ocean but also fill the space with natural light, creating a warm and vibrant atmosphere. \n",
            "\n",
            "The house features two spacious bedrooms, each with comfortable queen-sized beds adorned with plush linens, ensuring a restful night's sleep. The master bedroom comes with an ensuite bathroom, and there's\n"
          ]
        }
      ]
    },
    {
      "cell_type": "code",
      "source": [
        "real_estate_prompt_2 = \"What advice would you give to a first-time homebuyer in a competitive market?\"\n",
        "print(get_response(real_estate_prompt_2))\n"
      ],
      "metadata": {
        "colab": {
          "base_uri": "https://localhost:8080/"
        },
        "id": "F-gP9z_KiILI",
        "outputId": "93f2bcf1-e30b-41f1-d672-de8af7fe429a"
      },
      "execution_count": 22,
      "outputs": [
        {
          "output_type": "stream",
          "name": "stdout",
          "text": [
            "1. Get Preapproved for a Mortgage: Having your mortgage preapproved shows sellers you're a serious and eligible buyer, which can give you an edge in a competitive market. \n",
            "\n",
            "2. Work with a Local Real Estate Agent: An experienced local agent knows the market inside out and can help you make the best offer. They may also have information about upcoming listings before they hit the market.\n",
            "\n",
            "3. Know Your Budget: Determine what you can realistically afford before you start house hunting. Remember, just because you're preapproved for a certain amount doesn't mean you have to spend it all.\n",
            "\n",
            "4. Be Prepared to Move Quickly: In a competitive market, houses sell quickly. Be ready to make decisions rapidly but wisely.\n",
            "\n",
            "5. Be Flexible: In\n"
          ]
        }
      ]
    },
    {
      "cell_type": "code",
      "source": [
        "real_estate_prompt_3 = \"Outline the steps in renting an apartment, from searching to signing the lease.\"\n",
        "print(get_response(real_estate_prompt_3))\n"
      ],
      "metadata": {
        "colab": {
          "base_uri": "https://localhost:8080/"
        },
        "id": "XAYQaTtCiKXD",
        "outputId": "00b84158-6c9e-4ed4-8804-4299f3152ea7"
      },
      "execution_count": 23,
      "outputs": [
        {
          "output_type": "stream",
          "name": "stdout",
          "text": [
            "1. Determining the Budget: Before starting the apartment hunt, it's important to understand how much rent one can afford. As a general rule, rent should not exceed 30% of monthly income. \n",
            "\n",
            "2. List Requirements: Make a list of desired features like location, size, number of bedrooms, bathrooms, proximity to work or school, public transportation, parking, pet-friendliness, etc.\n",
            "\n",
            "3. Start Searching: Use online apartment search websites, real estate agents or word of mouth to find available apartments that meet the requirements.\n",
            "\n",
            "4. Schedule Apartment Viewings: Once potential apartments have been identified, schedule appointments to view them. This is a crucial step to see the actual condition of the apartment and its surroundings.\n",
            "\n",
            "5. Inspect\n"
          ]
        }
      ]
    },
    {
      "cell_type": "markdown",
      "source": [
        "## Field 8: Customer Service\n"
      ],
      "metadata": {
        "id": "q7AZtaSGhsA9"
      }
    },
    {
      "cell_type": "code",
      "source": [
        "customer_service_prompt_1 = \"Respond to a customer who received the wrong item in their order. Apologize and offer a solution.\"\n",
        "print(get_response(customer_service_prompt_1))\n"
      ],
      "metadata": {
        "colab": {
          "base_uri": "https://localhost:8080/"
        },
        "id": "0lDAqKbTiOSg",
        "outputId": "23e4ed20-e4aa-4175-f27a-cbdc5b18c579"
      },
      "execution_count": 24,
      "outputs": [
        {
          "output_type": "stream",
          "name": "stdout",
          "text": [
            "Dear Customer,\n",
            "\n",
            "I am truly sorry to hear about the mix-up with your recent order. At our company, we strive to ensure accuracy with every customer transaction, and it's clear that in this instance, we fell short of our high standards. \n",
            "\n",
            "To rectify this situation, we will send out the correct item immediately at no extra cost to you. In regards to the item you have currently received, we will arrange a free return pickup at your earliest convenience. \n",
            "\n",
            "Again, we are extremely sorry for this inconvenience and appreciate your patience as we correct this error. Please let us know if there is anything else we can do to assist you further. \n",
            "\n",
            "Best regards, \n",
            "\n",
            "[Your Name]\n",
            "[Your Position]\n"
          ]
        }
      ]
    },
    {
      "cell_type": "code",
      "source": [
        "customer_service_prompt_2 = \"Inform the customer about a delay in their order shipment and offer a 10% discount as compensation.\"\n",
        "print(get_response(customer_service_prompt_2))\n"
      ],
      "metadata": {
        "colab": {
          "base_uri": "https://localhost:8080/"
        },
        "id": "QyzE6x6skUI8",
        "outputId": "96192653-d7a9-48e6-d974-bb5795e009b8"
      },
      "execution_count": 25,
      "outputs": [
        {
          "output_type": "stream",
          "name": "stdout",
          "text": [
            "Dear Valued Customer,\n",
            "\n",
            "I hope this message finds you well. \n",
            "\n",
            "I am writing to inform you of an unexpected delay in the shipment of your recent order. We sincerely apologize for any inconvenience this may cause, as we understand the importance of timely delivery.\n",
            "\n",
            "This delay is due to unforeseen circumstances beyond our control. However, we want to assure you that we are doing everything within our power to expedite the process and get your order to you as soon as possible.\n",
            "\n",
            "To express our sincere regret and appreciation for your patience and understanding, we would like to offer you a 10% discount on your next purchase with us. This discount will automatically be applied to your account and can be used at any time.\n",
            "\n",
            "We truly value your business and your satisfaction\n"
          ]
        }
      ]
    },
    {
      "cell_type": "code",
      "source": [
        "customer_service_prompt_3 = \"Provide simple step-by-step instructions for setting up a smart speaker.\"\n",
        "print(get_response(customer_service_prompt_3))\n"
      ],
      "metadata": {
        "colab": {
          "base_uri": "https://localhost:8080/"
        },
        "id": "oP9QMRXqkamJ",
        "outputId": "570432b1-7ea1-4282-b67a-499c4aba0c88"
      },
      "execution_count": 26,
      "outputs": [
        {
          "output_type": "stream",
          "name": "stdout",
          "text": [
            "1. Unpack the Smart Speaker: Carefully remove your smart speaker from its packaging. \n",
            "\n",
            "2. Find an Appropriate Location: Choose a location that's near an outlet and within a good range of your Wi-Fi signal. \n",
            "\n",
            "3. Power it Up: Plug the power adapter into a wall outlet, then connect the other end to your smart speaker. Most smart speakers light up or make a sound to indicate they're powered on.\n",
            "\n",
            "4. Download the App: On your smartphone or tablet, go to your app store (Google Play or Apple App Store) and download the corresponding app for your smart speaker. This could be the Google Home app, Amazon Alexa app, or Apple Home app, depending on your smart speaker.\n",
            "\n",
            "5. Sign In\n"
          ]
        }
      ]
    },
    {
      "cell_type": "markdown",
      "source": [
        "## Field 9: Project Management\n"
      ],
      "metadata": {
        "id": "zq3-6RbChtny"
      }
    },
    {
      "cell_type": "code",
      "source": [
        "pm_prompt_1 = \"Create a project timeline for launching a new company website, including design, development, and testing phases.\"\n",
        "print(get_response(pm_prompt_1))\n"
      ],
      "metadata": {
        "colab": {
          "base_uri": "https://localhost:8080/"
        },
        "id": "PBxn0pOAk8xd",
        "outputId": "f937d7c7-4f28-47c2-ab36-5aedab7d718a"
      },
      "execution_count": 27,
      "outputs": [
        {
          "output_type": "stream",
          "name": "stdout",
          "text": [
            "Week 1 - 2: Project Planning\n",
            "- Identify project objectives, scope, and goals\n",
            "- Assemble project team\n",
            "- Develop project timeline and assign tasks\n",
            "\n",
            "Week 3 - 6: Market Research and Requirements Gathering\n",
            "- Research on competitors’ websites\n",
            "- Gather business requirements\n",
            "- Identify target audience and their preferences\n",
            "\n",
            "Week 7 - 10: Website Design\n",
            "- Create wireframes and mock-ups\n",
            "- Finalize website design \n",
            "- Review and approval of design from stakeholders\n",
            "\n",
            "Week 11 - 14: Website Development\n",
            "- Front end and back-end development\n",
            "- Creation of website content\n",
            "- Integration of necessary functionalities and features\n",
            "\n",
            "Week 15 - 16: Website Testing\n",
            "- Functionality testing\n",
            "- User experience\n"
          ]
        }
      ]
    },
    {
      "cell_type": "code",
      "source": [
        "pm_prompt_2 = \"Write a motivational message to a team that is behind schedule, emphasizing teamwork and progress.\"\n",
        "print(get_response(pm_prompt_2))\n"
      ],
      "metadata": {
        "colab": {
          "base_uri": "https://localhost:8080/"
        },
        "id": "Y10JU3l6k-V5",
        "outputId": "7c2eaa31-f259-4661-be7d-953431269825"
      },
      "execution_count": 28,
      "outputs": [
        {
          "output_type": "stream",
          "name": "stdout",
          "text": [
            "Dear Team,\n",
            "\n",
            "I hope this message finds you well. I am writing this not only as your leader, but as a fellow team member who shares the passion, the vision, and the challenges that we are facing together. It is clear that we are currently behind schedule, but let's not forget that every great accomplishment involves moments of struggle and perseverance. \n",
            "\n",
            "Our progress might not be as swift as we anticipated, but progress is progress, no matter how small. Each tiny step that we take is moving us closer to our goal. Each effort that we put forth is a testament to our resilience and dedication. \n",
            "\n",
            "Remember, we are not just a group of individuals, but a team. The strength of our team lies in each and every one of us\n"
          ]
        }
      ]
    },
    {
      "cell_type": "code",
      "source": [
        "pm_prompt_3 = \"Identify possible risks in a software development project and provide mitigation strategies.\"\n",
        "print(get_response(pm_prompt_3))\n"
      ],
      "metadata": {
        "colab": {
          "base_uri": "https://localhost:8080/"
        },
        "id": "4cGky4QCk_in",
        "outputId": "cd524ce3-7af7-40e2-ef58-447cdf355e28"
      },
      "execution_count": 29,
      "outputs": [
        {
          "output_type": "stream",
          "name": "stdout",
          "text": [
            "1. Scope Creep: This occurs when the project expands beyond its initial objectives. It can lead to delays, increased costs, and reduced quality.\n",
            "\n",
            "   Mitigation: Strictly adhering to the scope of work outlined in the project plan. Any changes should be thoroughly assessed for their impact on time, cost, and resources, and should be properly documented.\n",
            "\n",
            "2. Poor Requirements Analysis: If the project's requirements are not properly defined or misunderstood, it can lead to development of a software that does not meet the client's expectations.\n",
            "\n",
            "   Mitigation: Invest sufficient time in the requirements gathering and analysis phase. Involve all stakeholders, and ensure that all requirements are clearly understood and documented.\n",
            "\n",
            "3. Technical Debt: This happens when developers take shortcuts or\n"
          ]
        }
      ]
    },
    {
      "cell_type": "markdown",
      "source": [
        "## Field 10: Entertainment"
      ],
      "metadata": {
        "id": "W93iPOsRhuup"
      }
    },
    {
      "cell_type": "code",
      "source": [
        "entertainment_prompt_1 = \"Recommend a movie similar to 'The Matrix' for someone who loves science fiction and action.\"\n",
        "print(get_response(entertainment_prompt_1))\n"
      ],
      "metadata": {
        "colab": {
          "base_uri": "https://localhost:8080/"
        },
        "id": "QuRATexblBHU",
        "outputId": "cd9bc8c6-bb95-4fee-eb7c-aabfd3880451"
      },
      "execution_count": 30,
      "outputs": [
        {
          "output_type": "stream",
          "name": "stdout",
          "text": [
            "\"Inception\" directed by Christopher Nolan. It's a mind-bending sci-fi thriller that features intense action scenes and a thought-provoking plot about dreams and reality, much like 'The Matrix'.\n"
          ]
        }
      ]
    },
    {
      "cell_type": "code",
      "source": [
        "entertainment_prompt_2 = \"Create a playlist for a relaxing evening with friends. Include genres like jazz, blues, and a few artist suggestions.\"\n",
        "print(get_response(entertainment_prompt_2))\n"
      ],
      "metadata": {
        "colab": {
          "base_uri": "https://localhost:8080/"
        },
        "id": "N2OWdDbnlCHi",
        "outputId": "e483d1ce-02b5-4992-f287-e9599c8ead81"
      },
      "execution_count": 31,
      "outputs": [
        {
          "output_type": "stream",
          "name": "stdout",
          "text": [
            "1. \"Feeling Good\" - Nina Simone (Jazz)\n",
            "2. \"Stormy Monday\" - Allman Brothers Band (Blues)\n",
            "3. \"Blue in Green\" - Miles Davis (Jazz)\n",
            "4. \"Gravity\" - John Mayer (Blues)\n",
            "5. \"Take Five\" - Dave Brubeck (Jazz)\n",
            "6. \"Smokestack Lightnin'\" - Howlin' Wolf (Blues)\n",
            "7. \"At Last\" - Etta James (Blues)\n",
            "8. \"Fly Me to the Moon\" - Frank Sinatra (Jazz)\n",
            "9. \"The Thrill is Gone\" - B.B. King (Blues)\n",
            "10. \"Misty\" - Ella Fitzgerald (Jazz)\n",
            "11\n"
          ]
        }
      ]
    },
    {
      "cell_type": "code",
      "source": [
        "entertainment_prompt_3 = \"Generate a short story idea involving a time traveler and a lost artifact.\"\n",
        "print(get_response(entertainment_prompt_3))\n"
      ],
      "metadata": {
        "colab": {
          "base_uri": "https://localhost:8080/"
        },
        "id": "LNwPoARElDVO",
        "outputId": "abb86190-fccd-417c-8558-85680733a7c5"
      },
      "execution_count": 32,
      "outputs": [
        {
          "output_type": "stream",
          "name": "stdout",
          "text": [
            "Title: \"The Temporal Relic\"\n",
            "\n",
            "Story Idea: \n",
            "\n",
            "In the year 2075, Benjamin Crane, a brilliant and eccentric archaeologist, discovers an ancient artifact in an Egyptian tomb. This artifact isn't like anything else - it's not a piece of jewelry, weapon, or artwork; instead, it's a mysterious device with a symbol of an hourglass engraved. After accidentally activating it, Benjamin is transported back in time to 1340 BC, the era of the Pharaoh Akhenaten.\n",
            "\n",
            "Stranded in time, Benjamin must find a way to return home. He befriends a local woman, Nefertari, who helps him navigate through this ancient world. Benjamin learns from her that the artifact was a creation of a\n"
          ]
        }
      ]
    }
  ]
}