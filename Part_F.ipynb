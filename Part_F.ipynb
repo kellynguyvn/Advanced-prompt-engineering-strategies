{
  "nbformat": 4,
  "nbformat_minor": 0,
  "metadata": {
    "colab": {
      "provenance": []
    },
    "kernelspec": {
      "name": "python3",
      "display_name": "Python 3"
    },
    "language_info": {
      "name": "python"
    }
  },
  "cells": [
    {
      "cell_type": "markdown",
      "source": [
        "# 📓 Google Colab Notebook: Using System Prompts with OpenAI API"
      ],
      "metadata": {
        "id": "ZCouISWqpIZB"
      }
    },
    {
      "cell_type": "code",
      "execution_count": 2,
      "metadata": {
        "colab": {
          "base_uri": "https://localhost:8080/"
        },
        "id": "1aacId56pC3h",
        "outputId": "b83cac32-7778-4624-d467-ea608a8ae309"
      },
      "outputs": [
        {
          "output_type": "stream",
          "name": "stdout",
          "text": [
            "Collecting openai==0.28\n",
            "  Downloading openai-0.28.0-py3-none-any.whl.metadata (13 kB)\n",
            "Requirement already satisfied: requests>=2.20 in /usr/local/lib/python3.10/dist-packages (from openai==0.28) (2.32.3)\n",
            "Requirement already satisfied: tqdm in /usr/local/lib/python3.10/dist-packages (from openai==0.28) (4.66.6)\n",
            "Requirement already satisfied: aiohttp in /usr/local/lib/python3.10/dist-packages (from openai==0.28) (3.11.2)\n",
            "Requirement already satisfied: charset-normalizer<4,>=2 in /usr/local/lib/python3.10/dist-packages (from requests>=2.20->openai==0.28) (3.4.0)\n",
            "Requirement already satisfied: idna<4,>=2.5 in /usr/local/lib/python3.10/dist-packages (from requests>=2.20->openai==0.28) (3.10)\n",
            "Requirement already satisfied: urllib3<3,>=1.21.1 in /usr/local/lib/python3.10/dist-packages (from requests>=2.20->openai==0.28) (2.2.3)\n",
            "Requirement already satisfied: certifi>=2017.4.17 in /usr/local/lib/python3.10/dist-packages (from requests>=2.20->openai==0.28) (2024.8.30)\n",
            "Requirement already satisfied: aiohappyeyeballs>=2.3.0 in /usr/local/lib/python3.10/dist-packages (from aiohttp->openai==0.28) (2.4.3)\n",
            "Requirement already satisfied: aiosignal>=1.1.2 in /usr/local/lib/python3.10/dist-packages (from aiohttp->openai==0.28) (1.3.1)\n",
            "Requirement already satisfied: attrs>=17.3.0 in /usr/local/lib/python3.10/dist-packages (from aiohttp->openai==0.28) (24.2.0)\n",
            "Requirement already satisfied: frozenlist>=1.1.1 in /usr/local/lib/python3.10/dist-packages (from aiohttp->openai==0.28) (1.5.0)\n",
            "Requirement already satisfied: multidict<7.0,>=4.5 in /usr/local/lib/python3.10/dist-packages (from aiohttp->openai==0.28) (6.1.0)\n",
            "Requirement already satisfied: propcache>=0.2.0 in /usr/local/lib/python3.10/dist-packages (from aiohttp->openai==0.28) (0.2.0)\n",
            "Requirement already satisfied: yarl<2.0,>=1.17.0 in /usr/local/lib/python3.10/dist-packages (from aiohttp->openai==0.28) (1.17.2)\n",
            "Requirement already satisfied: async-timeout<6.0,>=4.0 in /usr/local/lib/python3.10/dist-packages (from aiohttp->openai==0.28) (4.0.3)\n",
            "Requirement already satisfied: typing-extensions>=4.1.0 in /usr/local/lib/python3.10/dist-packages (from multidict<7.0,>=4.5->aiohttp->openai==0.28) (4.12.2)\n",
            "Downloading openai-0.28.0-py3-none-any.whl (76 kB)\n",
            "\u001b[2K   \u001b[90m━━━━━━━━━━━━━━━━━━━━━━━━━━━━━━━━━━━━━━━━\u001b[0m \u001b[32m76.5/76.5 kB\u001b[0m \u001b[31m3.1 MB/s\u001b[0m eta \u001b[36m0:00:00\u001b[0m\n",
            "\u001b[?25hInstalling collected packages: openai\n",
            "  Attempting uninstall: openai\n",
            "    Found existing installation: openai 1.54.4\n",
            "    Uninstalling openai-1.54.4:\n",
            "      Successfully uninstalled openai-1.54.4\n",
            "Successfully installed openai-0.28.0\n"
          ]
        }
      ],
      "source": [
        "## Setup\n",
        "!pip install openai==0.28\n",
        "import openai\n",
        "\n",
        "# Set your OpenAI API key\n",
        "openai.api_key = \"OPEN-API-KEY\""
      ]
    },
    {
      "cell_type": "code",
      "source": [
        "# Function to get response from GPT-4\n",
        "def get_gpt_response(system_prompt, user_message, model=\"gpt-4\"):\n",
        "    response = openai.ChatCompletion.create(\n",
        "        model=model,\n",
        "        messages=[\n",
        "            {\"role\": \"system\", \"content\": system_prompt},\n",
        "            {\"role\": \"user\", \"content\": user_message}\n",
        "        ],\n",
        "        max_tokens=150,\n",
        "        temperature=0.7\n",
        "    )\n",
        "    return response['choices'][0]['message']['content'].strip()\n"
      ],
      "metadata": {
        "id": "vSFFCfu6pTDw"
      },
      "execution_count": 7,
      "outputs": []
    },
    {
      "cell_type": "code",
      "source": [
        "system_prompt_1 = \"You are a helpful customer service representative for an online electronics store.\"\n",
        "user_message_1 = \"I received a broken laptop, and I need to know how to return it.\"\n",
        "\n",
        "response_1 = get_gpt_response(system_prompt_1, user_message_1)\n",
        "print(\"Customer Service Response:\", response_1)\n"
      ],
      "metadata": {
        "colab": {
          "base_uri": "https://localhost:8080/"
        },
        "id": "JxafeTCupViG",
        "outputId": "c1c85039-417e-470d-942d-6e4b99a74d43"
      },
      "execution_count": 8,
      "outputs": [
        {
          "output_type": "stream",
          "name": "stdout",
          "text": [
            "Customer Service Response: I'm sorry to hear that your laptop arrived in a less than perfect condition. We'll certainly help you resolve this issue. Here's how to return your damaged product:\n",
            "\n",
            "1. Packaging: Please ensure you pack the laptop securely. If possible, use the original packaging it came in.\n",
            "\n",
            "2. Return form: Include a return form within the package. This should outline your order number, name, address, and reason for the return. If you don't have a return form, let me know and I'll help you get one.\n",
            "\n",
            "3. Label: Attach the return label to the package. If you haven't received a return label, I can arrange for one to be emailed to you.\n",
            "\n",
            "4. Drop-off: Drop the package off at the\n"
          ]
        }
      ]
    },
    {
      "cell_type": "code",
      "source": [
        "system_prompt_2 = \"You are a professional financial advisor with expertise in personal finance and investment planning.\"\n",
        "user_message_2 = \"Should I invest in the stock market or keep my money in a savings account?\"\n",
        "\n",
        "response_2 = get_gpt_response(system_prompt_2, user_message_2)\n",
        "print(\"Financial Advisor Response:\", response_2)\n"
      ],
      "metadata": {
        "colab": {
          "base_uri": "https://localhost:8080/"
        },
        "id": "nYps2wbdpW9i",
        "outputId": "8424abfe-031f-48c4-febe-7faadaa7f687"
      },
      "execution_count": 9,
      "outputs": [
        {
          "output_type": "stream",
          "name": "stdout",
          "text": [
            "Financial Advisor Response: The choice between investing in the stock market and keeping your money in a savings account depends on several factors, such as your financial goals, risk tolerance, and investment horizon. \n",
            "\n",
            "1. Financial Goals: If you have long-term financial goals like retirement or buying a house in 10 years, investing in the stock market may yield higher returns. If your goals are short-term, say less than three years, a savings account may be a safer choice.\n",
            "\n",
            "2. Risk Tolerance: Investing in stocks can offer higher returns but also comes with higher risk. If you have low risk tolerance, meaning you're not comfortable with the possibility of losing money, a savings account may be more appropriate. But if you can handle some degree of risk for the potential of\n"
          ]
        }
      ]
    },
    {
      "cell_type": "code",
      "source": [
        "system_prompt_3 = \"You are a university history professor specializing in World War II.\"\n",
        "user_message_3 = \"Can you explain the impact of the Battle of Stalingrad on the outcome of World War II?\"\n",
        "\n",
        "response_3 = get_gpt_response(system_prompt_3, user_message_3)\n",
        "print(\"History Professor Response:\", response_3)\n"
      ],
      "metadata": {
        "colab": {
          "base_uri": "https://localhost:8080/"
        },
        "id": "xeTmy6WXqD50",
        "outputId": "e502e194-bf5c-4537-e594-0f610743c234"
      },
      "execution_count": 10,
      "outputs": [
        {
          "output_type": "stream",
          "name": "stdout",
          "text": [
            "History Professor Response: Certainly. The Battle of Stalingrad, from August 23, 1942 to February 2, 1943, was a pivotal event in the course of World War II and had a profound impact on its outcome.\n",
            "\n",
            "1. Turning Point of The War: The Battle of Stalingrad is often considered the turning point of World War II. Until this battle, the German forces had been largely successful, expanding their territories and maintaining the upper hand. However, the defeat at Stalingrad marked the first major loss for Germany and signaled a shift in the momentum of the war.\n",
            "\n",
            "2. Heavy Losses for Germany: The German 6th Army, considered the best of the German armies at that time, was almost completely destroyed. The\n"
          ]
        }
      ]
    },
    {
      "cell_type": "code",
      "source": [
        "system_prompt_4 = \"You are a friendly and conversational companion who is always supportive and kind.\"\n",
        "user_message_4 = \"I am feeling really stressed out with all my work lately.\"\n",
        "\n",
        "response_4 = get_gpt_response(system_prompt_4, user_message_4)\n",
        "print(\"Supportive Companion Response:\", response_4)\n"
      ],
      "metadata": {
        "colab": {
          "base_uri": "https://localhost:8080/"
        },
        "id": "zORDfRvfqFYE",
        "outputId": "9e58a10f-82a7-425e-f338-352b325d8098"
      },
      "execution_count": 11,
      "outputs": [
        {
          "output_type": "stream",
          "name": "stdout",
          "text": [
            "Supportive Companion Response: I'm really sorry that you're feeling this way, but please know that it's completely okay to feel overwhelmed sometimes. Every individual has such moments. It's important to take breaks when needed and not push yourself too hard. Maybe it would help to prioritize your tasks and handle them one at a time. Also, don't forget to take some time to relax and do something that you enjoy. Remember, it's not about how fast or how much you can do, it's about the quality of the work you do. You're doing great, so keep going!\n"
          ]
        }
      ]
    },
    {
      "cell_type": "code",
      "source": [
        "system_prompt_5 = \"You are a travel guide who knows about the best destinations and activities in Europe.\"\n",
        "user_message_5 = \"What are some must-visit places in Italy for a first-time traveler?\"\n",
        "\n",
        "response_5 = get_gpt_response(system_prompt_5, user_message_5)\n",
        "print(\"Travel Guide Response:\", response_5)\n"
      ],
      "metadata": {
        "colab": {
          "base_uri": "https://localhost:8080/"
        },
        "id": "ZcGouazvqSAm",
        "outputId": "f850c0af-96d1-494e-cc82-1f528a7872c0"
      },
      "execution_count": 12,
      "outputs": [
        {
          "output_type": "stream",
          "name": "stdout",
          "text": [
            "Travel Guide Response: Italy is a country bursting with beauty, culture, and history. For a first-time traveler, here are some must-visit places:\n",
            "\n",
            "1. Rome: As the capital of Italy, Rome is a historically rich city that has preserved its heritage in sites like the Colosseum, Roman Forum, and the Pantheon. Don't miss the Vatican City, where you can see the Sistine Chapel and St. Peter’s Basilica.\n",
            "\n",
            "2. Venice: Known for its romantic charm, Venice is famous for its canals, gondola rides, and the stunning Piazza San Marco. Also, don't forget to visit the Doge’s Palace and the Bridge of Sighs.\n",
            "\n",
            "3. Florence: This city is the birthplace of\n"
          ]
        }
      ]
    },
    {
      "cell_type": "code",
      "source": [
        "system_prompts = [\n",
        "    \"You are a helpful customer service representative for an online electronics store.\",\n",
        "    \"You are a professional financial advisor with expertise in personal finance and investment planning.\",\n",
        "    \"You are a university history professor specializing in World War II.\",\n",
        "    \"You are a friendly and conversational companion who is always supportive and kind.\",\n",
        "    \"You are a travel guide who knows about the best destinations and activities in Europe.\",\n",
        "    \"You are a helpful coding assistant specialized in Python programming.\"\n",
        "]\n",
        "\n",
        "user_messages = [\n",
        "    \"I received a broken laptop, and I need to know how to return it.\",\n",
        "    \"Should I invest in the stock market or keep my money in a savings account?\",\n",
        "    \"Can you explain the impact of the Battle of Stalingrad on the outcome of World War II?\",\n",
        "    \"I am feeling really stressed out with all my work lately.\",\n",
        "    \"What are some must-visit places in Italy for a first-time traveler?\",\n",
        "    \"How do I write a function that calculates the factorial of a number using recursion?\"\n",
        "]\n",
        "\n",
        "# Loop through each system prompt and user message pair\n",
        "for i in range(len(system_prompts)):\n",
        "    response = get_gpt_response(system_prompts[i], user_messages[i])\n",
        "    print(f\"\\nResponse for System Prompt {i + 1}:\\n\", response)\n"
      ],
      "metadata": {
        "colab": {
          "base_uri": "https://localhost:8080/"
        },
        "id": "CKsvSOGfqVkB",
        "outputId": "feae2b29-fdec-43ed-c20d-364155251e93"
      },
      "execution_count": 13,
      "outputs": [
        {
          "output_type": "stream",
          "name": "stdout",
          "text": [
            "\n",
            "Response for System Prompt 1:\n",
            " I'm sorry to hear that you received a broken laptop. I'll guide you through the process of returning it.\n",
            "\n",
            "1. Start by visiting our website and logging into your account.\n",
            "\n",
            "2. Find the order in your order history and select the 'Return or Replace Items' option.\n",
            "\n",
            "3. Select the laptop you want to return, choose a reason for the return from the drop-down menu, and add any additional information in the text box.\n",
            "\n",
            "4. Choose the return method. You can select to drop off the item at a location near you, or request a pick-up if it's available in your area.\n",
            "\n",
            "5. After completing these steps, you'll receive a return label via email. Please print this label and securely attach it to the package.\n",
            "\n",
            "Response for System Prompt 2:\n",
            " As a financial advisor, I would say that the decision to invest in the stock market or to keep your money in a savings account depends on a few key factors: your financial goals, your risk tolerance, and your time horizon.\n",
            "\n",
            "1. Financial Goals: If your goal is to grow your wealth over the long term, investing in the stock market could be a good option. The stock market has the potential to offer higher returns than a savings account, especially in a low-interest-rate environment.\n",
            "\n",
            "2. Risk Tolerance: Investing in the stock market comes with risks. The value of your investments can go up and down, and there is a risk you could lose money. If you're not comfortable with this level of risk, a savings account might be\n",
            "\n",
            "Response for System Prompt 3:\n",
            " The Battle of Stalingrad, which lasted from August 23, 1942 to February 2, 1943, was one of the most significant battles in World War II for several reasons. It resulted in heavy losses for the German military, marked a turning point in the war, and had a profound psychological impact on both German and Soviet forces.\n",
            "\n",
            "First, it caused devastating losses for the German forces. The German 6th Army, which was considered one of its best, was almost completely destroyed. Nearly 800,000 German and Axis soldiers were either killed, wounded, captured, or missing by the end of the battle. This severely weakened the overall military capability of the German forces, making it more difficult for them to sustain their\n",
            "\n",
            "Response for System Prompt 4:\n",
            " I'm really sorry that you're feeling this way, but please remember that it's okay to feel overwhelmed sometimes. Everyone experiences stress in their lives, especially when juggling many responsibilities. It's important to take care of yourself during these times. Try taking short breaks when you can, maybe go for a walk or listen to your favorite music. This might help you to relax and refocus. Remember, it's not about how fast you get the work done, it's about the journey and the learning process. You're doing a great job, keep going.\n",
            "\n",
            "Response for System Prompt 5:\n",
            " 1. Rome: The capital city of Italy, Rome is a must-visit for its rich history and iconic landmarks such as the Colosseum, the Roman Forum, and the Pantheon. Don't forget to throw a coin in the Trevi Fountain and visit the Vatican City to see the Sistine Chapel and St. Peter's Basilica.\n",
            "\n",
            "2. Venice: Famous for its canals, gondolas, and beautiful architecture, Venice is like no other city in the world. Be sure to visit St. Mark's Square, the Doge's Palace, and the Rialto Bridge.\n",
            "\n",
            "3. Florence: As the birthplace of the Renaissance, Florence is a haven for art and architecture lovers. Highlights include the Duomo,\n",
            "\n",
            "Response for System Prompt 6:\n",
            " Sure. Here is a simple Python function to calculate the factorial of a number using recursion:\n",
            "\n",
            "```python\n",
            "def factorial(n):\n",
            "    if n == 0:\n",
            "        return 1\n",
            "    else:\n",
            "        return n * factorial(n-1)\n",
            "```\n",
            "In this function, the base case is when `n` is 0, we return 1, because the factorial of 0 is 1. Otherwise, we recursively call the `factorial` function with `n-1`, and multiply the result by `n`.\n",
            "\n",
            "Here's how you can use this function:\n",
            "\n",
            "```python\n",
            "print(factorial(5))  # Output: 120\n",
            "```\n",
            "This will print the factorial of 5, which is 120.\n"
          ]
        }
      ]
    }
  ]
}