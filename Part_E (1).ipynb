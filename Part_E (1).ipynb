{
  "nbformat": 4,
  "nbformat_minor": 0,
  "metadata": {
    "colab": {
      "provenance": []
    },
    "kernelspec": {
      "name": "python3",
      "display_name": "Python 3"
    },
    "language_info": {
      "name": "python"
    }
  },
  "cells": [
    {
      "cell_type": "markdown",
      "source": [
        "# 📓 Colab Notebook: Function Calling Use Case Using OpenAI API"
      ],
      "metadata": {
        "id": "ZCouISWqpIZB"
      }
    },
    {
      "cell_type": "code",
      "execution_count": 1,
      "metadata": {
        "colab": {
          "base_uri": "https://localhost:8080/"
        },
        "id": "1aacId56pC3h",
        "outputId": "aaa6b7a8-6286-4ccc-a27b-a8933b777c54"
      },
      "outputs": [
        {
          "output_type": "stream",
          "name": "stdout",
          "text": [
            "Collecting openai==0.28\n",
            "  Downloading openai-0.28.0-py3-none-any.whl.metadata (13 kB)\n",
            "Requirement already satisfied: requests>=2.20 in /usr/local/lib/python3.10/dist-packages (from openai==0.28) (2.32.3)\n",
            "Requirement already satisfied: tqdm in /usr/local/lib/python3.10/dist-packages (from openai==0.28) (4.66.6)\n",
            "Requirement already satisfied: aiohttp in /usr/local/lib/python3.10/dist-packages (from openai==0.28) (3.11.2)\n",
            "Requirement already satisfied: charset-normalizer<4,>=2 in /usr/local/lib/python3.10/dist-packages (from requests>=2.20->openai==0.28) (3.4.0)\n",
            "Requirement already satisfied: idna<4,>=2.5 in /usr/local/lib/python3.10/dist-packages (from requests>=2.20->openai==0.28) (3.10)\n",
            "Requirement already satisfied: urllib3<3,>=1.21.1 in /usr/local/lib/python3.10/dist-packages (from requests>=2.20->openai==0.28) (2.2.3)\n",
            "Requirement already satisfied: certifi>=2017.4.17 in /usr/local/lib/python3.10/dist-packages (from requests>=2.20->openai==0.28) (2024.8.30)\n",
            "Requirement already satisfied: aiohappyeyeballs>=2.3.0 in /usr/local/lib/python3.10/dist-packages (from aiohttp->openai==0.28) (2.4.3)\n",
            "Requirement already satisfied: aiosignal>=1.1.2 in /usr/local/lib/python3.10/dist-packages (from aiohttp->openai==0.28) (1.3.1)\n",
            "Requirement already satisfied: attrs>=17.3.0 in /usr/local/lib/python3.10/dist-packages (from aiohttp->openai==0.28) (24.2.0)\n",
            "Requirement already satisfied: frozenlist>=1.1.1 in /usr/local/lib/python3.10/dist-packages (from aiohttp->openai==0.28) (1.5.0)\n",
            "Requirement already satisfied: multidict<7.0,>=4.5 in /usr/local/lib/python3.10/dist-packages (from aiohttp->openai==0.28) (6.1.0)\n",
            "Requirement already satisfied: propcache>=0.2.0 in /usr/local/lib/python3.10/dist-packages (from aiohttp->openai==0.28) (0.2.0)\n",
            "Requirement already satisfied: yarl<2.0,>=1.17.0 in /usr/local/lib/python3.10/dist-packages (from aiohttp->openai==0.28) (1.17.2)\n",
            "Requirement already satisfied: async-timeout<6.0,>=4.0 in /usr/local/lib/python3.10/dist-packages (from aiohttp->openai==0.28) (4.0.3)\n",
            "Requirement already satisfied: typing-extensions>=4.1.0 in /usr/local/lib/python3.10/dist-packages (from multidict<7.0,>=4.5->aiohttp->openai==0.28) (4.12.2)\n",
            "Downloading openai-0.28.0-py3-none-any.whl (76 kB)\n",
            "\u001b[2K   \u001b[90m━━━━━━━━━━━━━━━━━━━━━━━━━━━━━━━━━━━━━━━━\u001b[0m \u001b[32m76.5/76.5 kB\u001b[0m \u001b[31m475.6 kB/s\u001b[0m eta \u001b[36m0:00:00\u001b[0m\n",
            "\u001b[?25hInstalling collected packages: openai\n",
            "  Attempting uninstall: openai\n",
            "    Found existing installation: openai 1.54.4\n",
            "    Uninstalling openai-1.54.4:\n",
            "      Successfully uninstalled openai-1.54.4\n",
            "Successfully installed openai-0.28.0\n"
          ]
        }
      ],
      "source": [
        "## Setup\n",
        "!pip install openai==0.28\n",
        "import openai\n",
        "\n",
        "# Set your OpenAI API key\n",
        "openai.api_key = \"OPEN-API-KEY\""
      ]
    },
    {
      "cell_type": "code",
      "source": [
        "import datetime\n",
        "\n",
        "# Define simple functions\n",
        "def get_weather(city):\n",
        "    return f\"The current weather in {city} is sunny with 25°C.\"\n",
        "\n",
        "def calculate(expression):\n",
        "    try:\n",
        "        result = eval(expression)\n",
        "        return f\"The result of the calculation '{expression}' is {result}.\"\n",
        "    except Exception as e:\n",
        "        return f\"Error in calculation: {e}\"\n",
        "\n",
        "def get_current_date():\n",
        "    return f\"Today's date is {datetime.datetime.now().strftime('%Y-%m-%d')}.\"\n"
      ],
      "metadata": {
        "id": "vSFFCfu6pTDw"
      },
      "execution_count": 2,
      "outputs": []
    },
    {
      "cell_type": "code",
      "source": [
        "# Function to get response from GPT-4\n",
        "def get_gpt_response(icl_prompt, model=\"gpt-4\"):\n",
        "    response = openai.ChatCompletion.create(\n",
        "        model=model,\n",
        "        messages=[\n",
        "            {\"role\": \"user\", \"content\": icl_prompt}\n",
        "        ],\n",
        "        max_tokens=150,\n",
        "        temperature=0.7\n",
        "    )\n",
        "    return response['choices'][0]['message']['content'].strip()\n",
        "\n",
        "# Function to handle function calls based on GPT's output\n",
        "def handle_function_call(response_text):\n",
        "    # Parse GPT's response and call appropriate function\n",
        "    if \"get_weather\" in response_text:\n",
        "        # Extract city from response (using a simple approach here for demonstration)\n",
        "        start = response_text.find(\"(\") + 1\n",
        "        end = response_text.find(\")\")\n",
        "        city = response_text[start:end].strip().replace(\"'\", \"\").replace('\"', '')\n",
        "        return get_weather(city)\n",
        "\n",
        "    elif \"calculate\" in response_text:\n",
        "        # Extract expression from response\n",
        "        start = response_text.find(\"(\") + 1\n",
        "        end = response_text.find(\")\")\n",
        "        expression = response_text[start:end].strip().replace(\"'\", \"\").replace('\"', '')\n",
        "        return calculate(expression)\n",
        "\n",
        "    elif \"get_current_date\" in response_text:\n",
        "        return get_current_date()\n",
        "\n",
        "    else:\n",
        "        return \"Sorry, I couldn't understand which function to call.\"\n",
        "\n",
        "# Sample user input to test\n",
        "user_input = \"What is the weather like in San Francisco?\"\n",
        "\n",
        "# Sending user input to GPT to get the function call\n",
        "prompt = f\"User request: '{user_input}'. Determine which function to call: get_weather(city), calculate(expression), or get_current_date(). Provide function call with arguments.\"\n",
        "response_text = get_gpt_response(prompt)\n",
        "\n",
        "print(\"GPT Response for Function Call:\", response_text)\n",
        "\n",
        "# Handle function call based on GPT's response\n",
        "result = handle_function_call(response_text)\n",
        "print(\"Function Output:\", result)\n"
      ],
      "metadata": {
        "colab": {
          "base_uri": "https://localhost:8080/"
        },
        "id": "JxafeTCupViG",
        "outputId": "9c2e8b81-b6f9-43f6-ffa6-d70cfbc49326"
      },
      "execution_count": 5,
      "outputs": [
        {
          "output_type": "stream",
          "name": "stdout",
          "text": [
            "GPT Response for Function Call: The function to call is get_weather(city). The function call with arguments is get_weather(\"San Francisco\").\n",
            "Function Output: The current weather in city is sunny with 25°C.\n"
          ]
        }
      ]
    },
    {
      "cell_type": "code",
      "source": [
        "# Test 1: Weather Request\n",
        "user_input_1 = \"What is the weather like in New York?\"\n",
        "prompt_1 = f\"User request: '{user_input_1}'. Determine which function to call: get_weather(city), calculate(expression), or get_current_date(). Provide function call with arguments.\"\n",
        "response_text_1 = get_gpt_response(prompt_1)\n",
        "print(\"\\nGPT Response for Weather Request:\", response_text_1)\n",
        "result_1 = handle_function_call(response_text_1)\n",
        "print(\"Function Output:\", result_1)\n",
        "\n",
        "# Test 2: Calculation Request\n",
        "user_input_2 = \"What is 5 plus 7 multiplied by 2?\"\n",
        "prompt_2 = f\"User request: '{user_input_2}'. Determine which function to call: get_weather(city), calculate(expression), or get_current_date(). Provide function call with arguments.\"\n",
        "response_text_2 = get_gpt_response(prompt_2)\n",
        "print(\"\\nGPT Response for Calculation Request:\", response_text_2)\n",
        "result_2 = handle_function_call(response_text_2)\n",
        "print(\"Function Output:\", result_2)\n",
        "\n",
        "# Test 3: Current Date Request\n",
        "user_input_3 = \"Can you tell me the current date?\"\n",
        "prompt_3 = f\"User request: '{user_input_3}'. Determine which function to call: get_weather(city), calculate(expression), or get_current_date(). Provide function call with arguments.\"\n",
        "response_text_3 = get_gpt_response(prompt_3)\n",
        "print(\"\\nGPT Response for Current Date Request:\", response_text_3)\n",
        "result_3 = handle_function_call(response_text_3)\n",
        "print(\"Function Output:\", result_3)\n"
      ],
      "metadata": {
        "colab": {
          "base_uri": "https://localhost:8080/"
        },
        "id": "nYps2wbdpW9i",
        "outputId": "779fe75a-7cf0-41e2-d909-836f18b2f71a"
      },
      "execution_count": 6,
      "outputs": [
        {
          "output_type": "stream",
          "name": "stdout",
          "text": [
            "\n",
            "GPT Response for Weather Request: Function to call: get_weather(city)\n",
            "\n",
            "Function call with arguments: get_weather(\"New York\")\n",
            "Function Output: The current weather in city is sunny with 25°C.\n",
            "\n",
            "GPT Response for Calculation Request: The function to call is calculate(expression). The function call with arguments is: calculate(\"5 + 7 * 2\")\n",
            "Function Output: The result of the calculation 'expression' is expression.\n",
            "\n",
            "GPT Response for Current Date Request: The function to call is get_current_date(). The function call is:\n",
            "\n",
            "get_current_date()\n",
            "Function Output: Today's date is 2024-12-02.\n"
          ]
        }
      ]
    }
  ]
}